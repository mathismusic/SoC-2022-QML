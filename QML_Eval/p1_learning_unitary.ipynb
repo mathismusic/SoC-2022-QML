{
 "cells": [
  {
   "cell_type": "markdown",
   "metadata": {},
   "source": [
    "# P1: Learning a single-qubit wavefunction variationally.\n",
    "We are given a single-qubit wave function $\\psi$. We seek to approximate $\\psi$. It is easily seen that $\\psi$ can be written as the first column of some unitary $U$, that is, $\\psi = U|0\\rangle$. We try to come up with a unitary $\\text{varU}(\\alpha, \\beta)$ with first column $ = \\psi'(\\alpha, \\beta) \\approx \\psi$. The parameters $\\alpha$ and $\\beta$ are learned using gradient descent. "
   ]
  },
  {
   "cell_type": "markdown",
   "metadata": {},
   "source": [
    "### Overview\n",
    "\n",
    "We use **2 qubits** and learn $\\psi$ using the variational wave function $\\psi'(\\alpha, \\beta) = \\text{varU}(\\alpha, \\beta)|0\\rangle$ - **2 variational parameters**.\n",
    "The loss function is taken to be $\\mathcal{L}(\\psi') = 1 - \\Vert\\langle\\psi|\\psi'\\rangle\\Vert^2$. Why? The key ingredient is the following observation(the motivation for this comes the fact that in the case when the inner product has unit modulus, equality holds in Cauchy-Schwarz):\n",
    "$$\\mathcal{L}(\\psi') = 1 - \\Vert\\langle\\psi|\\psi'\\rangle\\Vert^2 = \\Vert \\psi - \\langle\\psi'|\\psi\\rangle \\psi' \\Vert^2$$\n",
    "So our loss function is literally the same usual $\\mathcal{L}^2$ loss function where the 'predicted value' $\\psi'$ tries to estimate the 'label' $\\psi$ but in a quantum setting, where global phases are unimportant!\n",
    "\n",
    "The explicit (Frobenius) distance between $U$ and $\\text{varU}$ is computed in the ``dist`` function. This value need not be small since it is not minimized - it is not indicative of the loss! - rather, we are minimizing the loss function aka the distance(upto a phase) of the first columns of the two unitaries.\n",
    "\n",
    "In this example, we use the target unitary $U = R_z(0.3)R_y(1.5)R_z(0.8)$."
   ]
  },
  {
   "cell_type": "code",
   "execution_count": 424,
   "metadata": {},
   "outputs": [],
   "source": [
    "import pennylane as qml\n",
    "from pennylane.devices.default_qubit import DefaultQubit\n",
    "import pennylane.numpy as np\n",
    "from prettytable import PrettyTable"
   ]
  },
  {
   "cell_type": "code",
   "execution_count": 425,
   "metadata": {},
   "outputs": [],
   "source": [
    "dev = DefaultQubit(wires=2, shots=4096)\n",
    "table = PrettyTable(field_names=(\"Iter\", \"params (α, β)\", \"grad(params)\", \"Ψ'(α,β)\"), float_format='.4', alignment='r')\n",
    "np.set_printoptions(floatmode='fixed', precision=4) # like cout << fixed; cout.precision(4) but his applies to all numpy arrays only."
   ]
  },
  {
   "cell_type": "code",
   "execution_count": 426,
   "metadata": {},
   "outputs": [],
   "source": [
    "# the two 1-qubit operations, one given and one variational.\n",
    "def U(wire):\n",
    "    qml.RZ(0.8, wires=wire)\n",
    "    qml.RY(1.5, wires=wire)\n",
    "    qml.RZ(0.3, wires=wire)\n",
    "\n",
    "def varU(params, wire):\n",
    "    #qml.RZ(params[2], wires=wire) # 2 parameters suffice. The third parameter just sets |0> -> exp(-iγ/2)|0> so varU|0> = Ψ' becomes exp(-iγ/2)Ψ', which is just Ψ' with a phase. Anyway we adjust the phase of Ψ' in the end so no need of the third parameter.\n",
    "    qml.RY(params[1], wires=wire)\n",
    "    qml.RZ(params[0], wires=wire)\n",
    "\n",
    "@qml.qnode(dev)\n",
    "def circuit(params):\n",
    "    # create the state \\psi \\otimes \\psi'\n",
    "    U(0)\n",
    "    varU(params, 1)\n",
    "    \n",
    "    # implement the SWAP test. Convert bell basis to computational and measure the circuit.\n",
    "    qml.CNOT(wires=[0, 1])\n",
    "    qml.Hadamard(0)\n",
    "\n",
    "    counts = qml.sample(wires=range(2))\n",
    "    return counts\n",
    "\n",
    "def cost(params, iter:int=3):\n",
    "    prob_11 = np.zeros(iter) # we take an average (probability of [1, 1]) over iter iterations.\n",
    "    for i in range(iter):\n",
    "        counts = list(circuit(params))\n",
    "        count_11 = sum(np.all(measurement == [1, 1]) for measurement in counts)\n",
    "        prob_11[i] = count_11/len(counts)\n",
    "    return 2*np.average(prob_11) \n",
    "    ### Note that cost could return an exact 0 even if \\psi is not exactly \\psi' -> if psi is close enough to psi\\, then [1, 1] hardly occurs(tiny probability) and in a sample could never occur giving us a cost of exactly 0. ###\n",
    "\n",
    "def dist(params):\n",
    "    #print(\"U:\", qml.matrix(U)(0), \"varU:\", qml.matrix(varU)(params, 0), sep='\\n')\n",
    "    return np.linalg.norm(qml.matrix(U)(0) - qml.matrix(varU)(params, 0)) # The Frobenius norm of the difference between the two unitaries."
   ]
  },
  {
   "cell_type": "code",
   "execution_count": 427,
   "metadata": {},
   "outputs": [],
   "source": [
    "# computing grad(params) numerically\n",
    "def e_i(dim, i): \n",
    "    ans = np.zeros(dim); ans[i] = 1; return ans\n",
    "\n",
    "def grad(params, epsilon:float=0.01):\n",
    "    # for i in range(3):\n",
    "    #     print(params + epsilon*e_i(len(params), i), params - epsilon*e_i(len(params), i))\n",
    "    return np.array([(cost(params + epsilon*e_i(len(params), i)) - cost(params - epsilon*e_i(len(params), i)))/(2*epsilon) for i in range(len(params))])"
   ]
  },
  {
   "cell_type": "code",
   "execution_count": 428,
   "metadata": {},
   "outputs": [],
   "source": [
    "# the optimizer. We use simple gradient descent, no backprop required.\n",
    "def optimize(params_init=None, tol:float=2e-2, stepsize:float=0.8, max_iter:int=100):\n",
    "    params = np.array([0., 0.], requires_grad=True) if params_init is None else params_init\n",
    "    gradient = grad(params)\n",
    "    table.add_row([0, np.array(params), np.array(grad(params)), qml.matrix(varU)(params, 0)[:, 0]])\n",
    "    for _ in range(1, max_iter+1):\n",
    "        #print(qml.matrix(varU)(params, 0)[:, 0], np.array(gradient))\n",
    "        params = params - stepsize*gradient\n",
    "        if not _%4:\n",
    "            table.add_row([_, np.array(params), np.array(gradient), qml.matrix(varU)(params, 0)[:, 0]]) # the np.array cast is to print without the 'requires_grad=True' string\n",
    "        \n",
    "        if np.max(np.abs(gradient)) < tol and not np.all(gradient == np.zeros(len(gradient))):\n",
    "            if _%4: table.add_row([_, np.array(params), np.array(gradient), qml.matrix(varU)(params, 0)[:, 0]]) # _%4 for don't reprint the last iteration.\n",
    "            break\n",
    "        gradient = grad(params)\n",
    "    return params"
   ]
  },
  {
   "cell_type": "code",
   "execution_count": 429,
   "metadata": {},
   "outputs": [
    {
     "name": "stdout",
     "output_type": "stream",
     "text": [
      "Ψ = U|0⟩ = [0.6238-0.3824j 0.6604-0.1686j]\n",
      "+------+-----------------+-------------------+---------------------------------+\n",
      "| Iter |  params (α, β)  |    grad(params)   |             Ψ'(α,β)             |\n",
      "+------+-----------------+-------------------+---------------------------------+\n",
      "|  0   | [0.0000 0.0000] |  [0.0570 0.3174]  | [1.0000+0.0000j 0.0000+0.0000j] |\n",
      "|  4   | [0.2344 1.2630] | [-0.1628 -0.3255] | [0.8016-0.0944j 0.5863+0.0690j] |\n",
      "|  8   | [0.2995 1.4974] | [ 0.0000 -0.0488] | [0.7244-0.1093j 0.6731+0.1015j] |\n",
      "|  9   | [0.3060 1.4974] | [-0.0081  0.0000] | [0.7240-0.1116j 0.6727+0.1037j] |\n",
      "+------+-----------------+-------------------+---------------------------------+\n",
      "\n",
      "U:\n",
      "[[ 0.6238-0.3824j -0.6604-0.1686j]\n",
      " [ 0.6604-0.1686j  0.6238+0.3824j]]\n",
      "Estimate for U:\n",
      "[[ 0.7240-0.1116j -0.6727+0.1037j]\n",
      " [ 0.6727+0.1037j  0.7240+0.1116j]]\n",
      "Distance between U and estimate for U: d = 0.5616\n"
     ]
    }
   ],
   "source": [
    "print(\"Ψ = U|0⟩ =\", qml.matrix(U)(0)[:, 0])\n",
    "params = optimize()\n",
    "print(table)\n",
    "print()\n",
    "print(\"U:\", qml.matrix(U)(0), \"Estimate for U:\", qml.matrix(varU)(params, 0), sep='\\n') # qml.matrix(U) returns a (parametric) matrix counterpart (with same args as the function U) of the quantum operation U.\n",
    "print(f\"Distance between U and estimate for U: d = {dist(params):.4f}\")"
   ]
  },
  {
   "cell_type": "code",
   "execution_count": 430,
   "metadata": {},
   "outputs": [
    {
     "name": "stdout",
     "output_type": "stream",
     "text": [
      "Finally, we have:\n",
      "Ψ  = [0.6238-0.3824j 0.6604-0.1686j]\n",
      "Ψ' = [0.6238-0.3824j 0.6597-0.1643j]\n"
     ]
    }
   ],
   "source": [
    "# finally, a bit of post processing to get \\psi' to match \\psi (right now it does but upto a global phase)\n",
    "# \\psi' ≈ exp(i\\theta)\\psi so that exp(i\\theta) = psi'[0]/psi[0] -> set psi' = psi'/(psi'[0]/psi[0]). So now the first elements of psi and psi' will match exactly, and we should expect the second elements to be very close to each other(Ψ' ≈ Ψ now).\n",
    "psi = qml.matrix(U)(0)[:, 0]\n",
    "psi_ = qml.matrix(varU)(params, 0)[:, 0]\n",
    "phase = psi_[0]/psi[0]\n",
    "psi_ = psi_/phase\n",
    "print(f\"Finally, we have:\\nΨ  = {psi}\\nΨ' = {psi_}\")"
   ]
  }
 ],
 "metadata": {
  "kernelspec": {
   "display_name": "Python 3.9.13 64-bit",
   "language": "python",
   "name": "python3"
  },
  "language_info": {
   "codemirror_mode": {
    "name": "ipython",
    "version": 3
   },
   "file_extension": ".py",
   "mimetype": "text/x-python",
   "name": "python",
   "nbconvert_exporter": "python",
   "pygments_lexer": "ipython3",
   "version": "3.9.13"
  },
  "orig_nbformat": 4,
  "vscode": {
   "interpreter": {
    "hash": "b0fa6594d8f4cbf19f97940f81e996739fb7646882a419484c72d19e05852a7e"
   }
  }
 },
 "nbformat": 4,
 "nbformat_minor": 2
}
