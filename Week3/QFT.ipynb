{
 "cells": [
  {
   "cell_type": "markdown",
   "metadata": {},
   "source": [
    "# The Quantum Fourier Transform\n",
    "In this file, we implement QFT for $N = 2^n$ using $\\mathcal{O}(n^2) = \\mathcal{O}(\\log^2 N)$ operations.",
    " The implementation is recursive.",
    " See phase_estimation.ipynb for an iterative implementation that is more general and can perform the inverse transform as well."
   ]
  },
  {
   "cell_type": "code",
   "execution_count": 165,
   "metadata": {},
   "outputs": [],
   "source": [
    "from qiskit import QuantumCircuit, Aer, assemble\n",
    "sim = Aer.get_backend(\"aer_simulator\")"
   ]
  },
  {
   "cell_type": "code",
   "execution_count": 166,
   "metadata": {},
   "outputs": [],
   "source": [
    "from math import pi\n",
    "\n",
    "def R_k(ckt, index, k):\n",
    "    ckt.cp(pi/(2**k), index, index + k) # p is the general phase gate = [1 0 0 \\exp(i\\phi)]\n",
    "    return ckt"
   ]
  },
  {
   "cell_type": "code",
   "execution_count": 167,
   "metadata": {},
   "outputs": [],
   "source": [
    "# Tail-recursive implementation of the H, Rk gates in a QFT ckt\n",
    "def QFT_main(ckt, index, n):\n",
    "    # basecase\n",
    "    if (index >= n): return ckt\n",
    "    \n",
    "    ckt.h(index)\n",
    "    for i in range(1, n-index):\n",
    "        R_k(ckt, index, i)\n",
    "    ckt.barrier()\n",
    "    \n",
    "    return QFT_main(ckt, index + 1, n)"
   ]
  },
  {
   "cell_type": "code",
   "execution_count": 168,
   "metadata": {},
   "outputs": [],
   "source": [
    "# swaps qubits i and j\n",
    "def swap(ckt, i, j):\n",
    "    #ckt.cx(i, j); ckt.cx(j, i); ckt.cx(i, j)\n",
    "    ckt.swap(i, j) # built in. Though the above will also work.\n",
    "    return ckt"
   ]
  },
  {
   "cell_type": "code",
   "execution_count": 169,
   "metadata": {},
   "outputs": [],
   "source": [
    "# takes psi 1 \\otimes psi 2 ... psi n to \\psi n \\otimes ... \\psi 1\n",
    "def reverse(ckt):\n",
    "    for i in range(ckt.width()//2):\n",
    "        swap(ckt, i, n-1-i)"
   ]
  },
  {
   "cell_type": "code",
   "execution_count": 170,
   "metadata": {},
   "outputs": [],
   "source": [
    "# Wrapper for above function.\n",
    "def QFourierTransform(ckt, n):\n",
    "    qft = ckt.copy()\n",
    "    QFT_main(qft, 0, n)\n",
    "    reverse(qft)\n",
    "    qft.barrier()\n",
    "    return qft"
   ]
  },
  {
   "cell_type": "code",
   "execution_count": 171,
   "metadata": {},
   "outputs": [
    {
     "data": {
      "image/png": "[encoded data removed]",
      "text/plain": [
       "<Figure size 1531.4x264.88 with 1 Axes>"
      ]
     },
     "execution_count": 171,
     "metadata": {},
     "output_type": "execute_result"
    }
   ],
   "source": [
    "n = 4\n",
    "ckt = QuantumCircuit(n)\n",
    "ckt.barrier()\n",
    "qft = QFourierTransform(ckt, n)\n",
    "#print(qft)\n",
    "qft.draw(output=\"mpl\")"
   ]
  }
 ],
 "metadata": {
  "kernelspec": {
   "display_name": "Python 3.9.13 64-bit",
   "language": "python",
   "name": "python3"
  },
  "language_info": {
   "codemirror_mode": {
    "name": "ipython",
    "version": 3
   },
   "file_extension": ".py",
   "mimetype": "text/x-python",
   "name": "python",
   "nbconvert_exporter": "python",
   "pygments_lexer": "ipython3",
   "version": "3.9.13"
  },
  "orig_nbformat": 4,
  "vscode": {
   "interpreter": {
    "hash": "b0fa6594d8f4cbf19f97940f81e996739fb7646882a419484c72d19e05852a7e"
   }
  }
 },
 "nbformat": 4,
 "nbformat_minor": 2
}
