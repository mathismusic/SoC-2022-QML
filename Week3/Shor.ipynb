{
 "cells": [
  {
   "cell_type": "markdown",
   "metadata": {},
   "source": [
    "# Shor's algorithm for factoring numbers\n",
    "- It is a nice application of order-finding.\n",
    "- We first check if N is even. If yes, return 2 as a factor.\n",
    "- Else: a random integer $x \\in [2, N-2]$ is chosen($0$ isn't coprime to $N$, and $1$ and $-1/N-1$ give trivial factors(i.e. $N$ itself)).\n",
    "- If $\\text{gcd}(x, N) > 1$, return $\\gcd(x, N)$.\n",
    "- Else: compute the order $r$ of $x$ modulo $N$. It is likely that $r$ is even and that $x^{r/2} \\not\\equiv -1 \\pmod N$.\n",
    "- If $r$ is indeed even and $x^{r/2} \\not\\equiv -1 \\pmod N$, we have that $N$ divides the product $(x^{r/2} - 1) \\cdot (x^{r/2} + 1)$ but does not fully divide any term. So we return $\\gcd(x^{r/2} - 1, N)$ or $\\gcd(x^{r/2} + 1, N)$ as a factor of $N$.\n",
    "- Else the algorithm fails.\n",
    "<br/>\n",
    "<br/>\n",
    "Finally, note that it is easy to see that we can use the factoring algorithm recursively (get one factor, divide $N$ by the factor and apply the algorithm on the quotient and so on) to get the full prime factorization of $N$(of course, we need some primality checks at each stage so that this terminates)."
   ]
  },
  {
   "cell_type": "code",
   "execution_count": 216,
   "metadata": {},
   "outputs": [],
   "source": [
    "from qiskit import Aer, QuantumCircuit, transpile\n",
    "from qiskit.visualization import plot_histogram\n",
    "sim = Aer.get_backend('aer_simulator')\n",
    "\n",
    "from math import gcd, log2, ceil, pi\n",
    "from fractions import Fraction\n",
    "\n",
    "from IPython.core.interactiveshell import InteractiveShell\n",
    "InteractiveShell.ast_node_interactivity = \"all\""
   ]
  },
  {
   "cell_type": "code",
   "execution_count": 217,
   "metadata": {},
   "outputs": [],
   "source": [
    "def y_to_xy_modN(x, N, power):\n",
    "    \"\"\"finds the order of x modulo N. x is assumed to be coprime to N\"\"\"\n",
    "    assert(gcd(x, N) == 1)\n",
    "    ...\n",
    "# We must now implement the matrix U in phase estimation. Turns out this is not the easiest task and in general requires a O(L^3) qubits so even if N = 15, we get L^3 = 4^3 = 64 - a ton of qubits!\n",
    "# so we implement a very special case of the order finding algorithm - it only works for N = 15 :). The following implementation for y_to_xy_mod15 is motivated to some extent by the qiskit docs.\n",
    "\n",
    "def y_to_xy_mod15(x, power):\n",
    "    assert(gcd(x, 15) == 1)\n",
    "    # so x E 2,4,7, 8,11,13(x E [2,13])\n",
    "    U = QuantumCircuit(4)\n",
    "    \n",
    "    def rotateleft(units: int):\n",
    "        # if units == 0: do nothing\n",
    "        if units == 1: U.swap(0, 1); U.swap(0, 2); U.swap(0, 3) # or equivalently swap(2, 3) then (1, 2) then (0, 1)\n",
    "        elif units == 2: U.swap(0, 2); U.swap(1, 3)\n",
    "        elif units == 3: U.swap(0, 3); U.swap(0, 2); U.swap(0, 1) # 3 left is the same as 1 right\n",
    "    \n",
    "    for _ in range(power):\n",
    "        if x in [2, 13]: rotateleft(1)\n",
    "        elif x in [4, 11]: rotateleft(2)\n",
    "        else: rotateleft(3) # x in [7, 8] now\n",
    "        if x in [7, 11, 13]: U.x(range(4))\n",
    "\n",
    "    return U.to_gate(label=f\"  $U^{{{power}}}$  \")"
   ]
  },
  {
   "cell_type": "code",
   "execution_count": 219,
   "metadata": {},
   "outputs": [],
   "source": [
    "# computes the fourier/inverse fourier transform of a set of sz qubits. Clearly the algorithm employs O(sz^2) gates.\n",
    "def ft(sz: int, inverse: bool=False):\n",
    "    \"\"\"Returns a fourier/inverse fourier transform gate. sz: number of qubits representing the state to take the fourier transform of.\"\"\"\n",
    "    ckt = QuantumCircuit(sz)\n",
    "    sign = -1 if inverse else 1\n",
    "    for i in range(sz-1, -1, -1): \n",
    "        ckt.h(i)\n",
    "        for j in range(i-1, -1, -1):\n",
    "            ckt.cp(sign*pi/2**(i-j), j, i)\n",
    "        #ckt.barrier()\n",
    "    for i in range(sz//2):\n",
    "        ckt.swap(i, sz-1-i)\n",
    "    #return ckt\n",
    "    return ckt.to_gate(label = (r\"  $QFT^{\\dagger}$  \" if inverse else \"  QFT  \"))"
   ]
  },
  {
   "cell_type": "code",
   "execution_count": 220,
   "metadata": {},
   "outputs": [],
   "source": [
    "def estimate_phase_and_get_order(L: int, accuracy: int, epsilon: float, x: int):\n",
    "    \"\"\"phase estimation algorithm modified for factoring 15. L is the number of input qubits to U, accuracy is the number of bits of accuracy required in the phase, epsilon is the maximum probability of failure of the algorithm, x is the fixed x in - y_to_xy_mod15 takes |y> to |xy(15)> for all y E [15])\"\"\"\n",
    "\n",
    "    t = accuracy + ceil(log2(2 + 1/(2*epsilon)))\n",
    "    ckt = QuantumCircuit(t + L, t)\n",
    "\n",
    "    # get superposition of all states |j> in the first register.\n",
    "    ckt.h(range(t))\n",
    "\n",
    "    # set the second register of L bits to |00..01> = |1>\n",
    "    ckt.x(t) \n",
    "\n",
    "    # |j>|k> -> |j>| U^j|k> >\n",
    "    for i in range(t): \n",
    "        ckt.append(y_to_xy_mod15(x, 2**i).control(num_ctrl_qubits=1), \n",
    "                [i] + list(range(t, t+L))) # the second argument qargs is the qubits to attach the instruction(gate) to.\n",
    "\n",
    "    # take the inverse fourier transform of the first register.\n",
    "    ckt = ckt.compose(ft(sz=t, inverse=True))\n",
    "\n",
    "    # measure the first register to get the phase times 2^(sz of first register = t).\n",
    "    ckt.measure(range(t), range(t))\n",
    "\n",
    "    # finally, get the phase.\n",
    "    results_dict = sim.run(transpile(ckt, sim), shots=1024).result().get_counts()\n",
    "    \n",
    "    # now the part special to the order-finding algorithm: use fractions to estimate the order.\n",
    "    results = sorted(results_dict.items(), key=lambda item: item[1], reverse=True) # results is now a list of kv tuples, note.\n",
    "    phases = [int(measured_val, 2)/(2**t) for measured_val, count in results]\n",
    "    def find_order(phases: list):\n",
    "        return max(Fraction(phase).limit_denominator(15).denominator for phase in phases)\n",
    "    order = find_order(phases)\n",
    "    \n",
    "    return ckt, results_dict, order"
   ]
  },
  {
   "cell_type": "code",
   "execution_count": 221,
   "metadata": {},
   "outputs": [],
   "source": [
    "# finally, drumroll moment.\n",
    "def get_factors(x, order, N):\n",
    "    if order%2: return None\n",
    "    order //= 2\n",
    "    return gcd(x**order - 1, N), gcd(x**order + 1, N)"
   ]
  },
  {
   "cell_type": "code",
   "execution_count": 222,
   "metadata": {},
   "outputs": [
    {
     "name": "stdout",
     "output_type": "stream",
     "text": [
      "order of 13 mod 15 is 4\n"
     ]
    }
   ],
   "source": [
    "N = 15; x = 13\n",
    "ckt, results, order = estimate_phase_and_get_order(L=4, accuracy=2, epsilon=0.1, x=x)\n",
    "# ckt.draw(\"mpl\", fold=-1)\n",
    "# plot_histogram(results)\n",
    "print(\"order of\", x, \"mod\", N, \"is\", order)"
   ]
  },
  {
   "cell_type": "code",
   "execution_count": 223,
   "metadata": {},
   "outputs": [
    {
     "name": "stdout",
     "output_type": "stream",
     "text": [
      "3 is a factor of 15\n",
      "5 is a factor of 15\n"
     ]
    }
   ],
   "source": [
    "if (get_factors(x, order, N) is None): print(\"Algorithm failed. Please try again :)\")\n",
    "else:\n",
    "    for factor in get_factors(x, order, N):\n",
    "        print(factor, \"is a factor of\", N)"
   ]
  }
 ],
 "metadata": {
  "kernelspec": {
   "display_name": "Python 3.9.13 64-bit",
   "language": "python",
   "name": "python3"
  },
  "language_info": {
   "codemirror_mode": {
    "name": "ipython",
    "version": 3
   },
   "file_extension": ".py",
   "mimetype": "text/x-python",
   "name": "python",
   "nbconvert_exporter": "python",
   "pygments_lexer": "ipython3",
   "version": "3.9.13"
  },
  "orig_nbformat": 4,
  "vscode": {
   "interpreter": {
    "hash": "b0fa6594d8f4cbf19f97940f81e996739fb7646882a419484c72d19e05852a7e"
   }
  }
 },
 "nbformat": 4,
 "nbformat_minor": 2
}
