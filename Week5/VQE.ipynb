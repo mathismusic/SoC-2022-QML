{
 "cells": [
  {
   "cell_type": "markdown",
   "metadata": {},
   "source": [
    "# VQE: An algorithm to find the correct ground state energy of a molecule using a tranformation to a qubit simulation and the variational method.\n",
    "\n",
    "We aim to find the approximate ground state energy and wavefunction of the $H_2$ molecule by minimising cost = $E = \\langle \\psi |\\hat H_e | \\psi\\rangle$."
   ]
  },
  {
   "cell_type": "code",
   "execution_count": 50,
   "metadata": {},
   "outputs": [
    {
     "name": "stdout",
     "output_type": "stream",
     "text": [
      "Qubits required: 4 \n",
      "\n",
      "Hamiltonian:   (-0.24274501250441338) [Z2]\n",
      "+ (-0.24274501250441338) [Z3]\n",
      "+ (-0.04207255204049776) [I0]\n",
      "+ (0.17771358235511994) [Z0]\n",
      "+ (0.17771358235511997) [Z1]\n",
      "+ (0.12293330446063176) [Z0 Z2]\n",
      "+ (0.12293330446063176) [Z1 Z3]\n",
      "+ (0.1676833885118713) [Z0 Z3]\n",
      "+ (0.1676833885118713) [Z1 Z2]\n",
      "+ (0.1705975927542705) [Z0 Z1]\n",
      "+ (0.17627661386357585) [Z2 Z3]\n",
      "+ (-0.04475008405123956) [Y0 Y1 X2 X3]\n",
      "+ (-0.04475008405123956) [X0 X1 Y2 Y3]\n",
      "+ (0.04475008405123956) [Y0 X1 X2 Y3]\n",
      "+ (0.04475008405123956) [X0 Y1 Y2 X3]\n"
     ]
    }
   ],
   "source": [
    "import pennylane as qml\n",
    "import pennylane.numpy as np # or from pennylane import numpy as np\n",
    "from pennylane import qchem\n",
    "from pennylane.devices.default_qubit import DefaultQubit\n",
    "\n",
    "symbols = [\"H\", \"H\"]\n",
    "a = 1.3228 # (equilibrium?) bond length.\n",
    "nuclear_coords = np.array([0.0, 0.0, -a/2, 0.0, 0.0, a/2]) # one H at 0,0,-a/2, other H at 0,0,a/2\n",
    "\n",
    "H, qubits = qchem.molecular_hamiltonian(symbols=symbols, coordinates=nuclear_coords, mapping=\"jordan_wigner\")\n",
    "# H is the molecule's hamiltonian, qubits is number of qubits required to simulate a circuit that can give us <H>\n",
    "\n",
    "print(\"Qubits required:\", qubits, \"\\n\")\n",
    "print(\"Hamiltonian:\", H) # H is written as a linear combination of Pauli operators with the indices next to the operator being the qubit they act on. Cool!"
   ]
  },
  {
   "cell_type": "code",
   "execution_count": 51,
   "metadata": {},
   "outputs": [],
   "source": [
    "dev = DefaultQubit(wires=qubits)\n",
    "classical_opt = qml.GradientDescentOptimizer(stepsize=0.4) # stepsize = alpha?\n",
    "\n",
    "def circuit(theta):\n",
    "    qml.BasisState(np.array([1, 1, 0, 0]), wires=range(qubits))\n",
    "    qml.DoubleExcitation(theta, wires=range(4)) # takes 0011-> c(theta/2)0011 + s1100, 1100 -> -s0011 + c1100\n",
    "\n",
    "# the cost function\n",
    "@qml.qnode(dev)\n",
    "def cost(theta): \n",
    "    circuit(theta); return qml.expval(H)"
   ]
  },
  {
   "cell_type": "code",
   "execution_count": 53,
   "metadata": {},
   "outputs": [
    {
     "name": "stdout",
     "output_type": "stream",
     "text": [
      " 0th iteration: Wave function = 1.0000|1100> - 0.0000|0011>, Energy = -1117.349 mHa\n",
      " 1th iteration: Wave function = 0.9994|1100> - 0.0358|0011>, Energy = -1128.000 mHa\n",
      " 2th iteration: Wave function = 0.9982|1100> - 0.0594|0011>, Energy = -1132.649 mHa\n",
      " 3th iteration: Wave function = 0.9972|1100> - 0.0750|0011>, Energy = -1134.662 mHa\n",
      " 4th iteration: Wave function = 0.9964|1100> - 0.0852|0011>, Energy = -1135.531 mHa\n",
      " 5th iteration: Wave function = 0.9958|1100> - 0.0919|0011>, Energy = -1135.906 mHa\n",
      " 6th iteration: Wave function = 0.9954|1100> - 0.0963|0011>, Energy = -1136.067 mHa\n",
      " 7th iteration: Wave function = 0.9951|1100> - 0.0992|0011>, Energy = -1136.137 mHa\n",
      " 8th iteration: Wave function = 0.9949|1100> - 0.1011|0011>, Energy = -1136.167 mHa\n",
      " 9th iteration: Wave function = 0.9948|1100> - 0.1023|0011>, Energy = -1136.179 mHa\n",
      "10th iteration: Wave function = 0.9947|1100> - 0.1031|0011>, Energy = -1136.185 mHa\n",
      "11th iteration: Wave function = 0.9946|1100> - 0.1037|0011>, Energy = -1136.187 mHa\n",
      "12th iteration: Wave function = 0.9946|1100> - 0.1040|0011>, Energy = -1136.188 mHa\n"
     ]
    }
   ],
   "source": [
    "# now the gradient(of cost_fn = expectation val - which is computed by dev) descent\n",
    "def optimize(tol: float=1e-6, max_iter: int=100):\n",
    "    theta = np.array(0, requires_grad=True) # initially psi = 1100\n",
    "    energies = [cost(theta)]; thetas = [theta]\n",
    "\n",
    "    for _ in range(max_iter):\n",
    "        theta_updated = classical_opt.step(cost, thetas[-1])\n",
    "        # classical_opt.step_and_cost()\n",
    "        # grad, _ = classical_opt.compute_grad(cost, [thetas[:-1]], thetas[:-1])\n",
    "        # theta_updated = classical_opt.apply_grad(grad, [thetas[:-1]])\n",
    "        \n",
    "        if abs(cost(theta_updated) - energies[-1]) < tol: break\n",
    "\n",
    "        thetas.append(theta_updated)\n",
    "        energies.append(cost(theta_updated))\n",
    "    return thetas, energies\n",
    "\n",
    "thetas, energies = optimize()\n",
    "thetas = [float(theta) for theta in thetas]\n",
    "energies = [float(energy) for energy in energies]\n",
    "for i, (theta, energy) in enumerate(zip(thetas, energies)):\n",
    "    print(f\"{i:>2}th iteration: Wave function = {np.cos(theta/2):.4f}|1100> - {np.sin(theta/2):.4f}|0011>, Energy = {energy*1000:.3f} mHa\")"
   ]
  }
 ],
 "metadata": {
  "kernelspec": {
   "display_name": "Python 3.9.13 64-bit",
   "language": "python",
   "name": "python3"
  },
  "language_info": {
   "codemirror_mode": {
    "name": "ipython",
    "version": 3
   },
   "file_extension": ".py",
   "mimetype": "text/x-python",
   "name": "python",
   "nbconvert_exporter": "python",
   "pygments_lexer": "ipython3",
   "version": "3.9.13"
  },
  "orig_nbformat": 4,
  "vscode": {
   "interpreter": {
    "hash": "b0fa6594d8f4cbf19f97940f81e996739fb7646882a419484c72d19e05852a7e"
   }
  }
 },
 "nbformat": 4,
 "nbformat_minor": 2
}
