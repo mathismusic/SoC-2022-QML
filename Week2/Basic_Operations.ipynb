{
 "cells": [
  {
   "cell_type": "markdown",
   "metadata": {},
   "source": [
    "Basic Operations."
   ]
  },
  {
   "cell_type": "markdown",
   "metadata": {},
   "source": [
    "1. Swap Gate. See QCQI p23"
   ]
  },
  {
   "cell_type": "code",
   "execution_count": 1,
   "metadata": {},
   "outputs": [],
   "source": [
    "from qiskit import Aer, QuantumCircuit, assemble\n",
    "from qiskit.visualization import array_to_latex\n",
    "from math import sqrt\n",
    "from numpy import asarray\n",
    "sim = Aer.get_backend(\"aer_simulator\")"
   ]
  },
  {
   "cell_type": "code",
   "execution_count": 2,
   "metadata": {},
   "outputs": [],
   "source": [
    "def swap_qubits(ckt, qbit1, qbit2):\n",
    "    ckt.cx(qbit1, qbit2)\n",
    "    ckt.cx(qbit2, qbit1)\n",
    "    ckt.cx(qbit1, qbit2)\n",
    "    return ckt"
   ]
  },
  {
   "cell_type": "code",
   "execution_count": 3,
   "metadata": {},
   "outputs": [
    {
     "data": {
      "image/png": "[encoded data removed]",
      "text/plain": [
       "<Figure size 387.452x144.48 with 1 Axes>"
      ]
     },
     "execution_count": 3,
     "metadata": {},
     "output_type": "execute_result"
    }
   ],
   "source": [
    "c = QuantumCircuit(2)\n",
    "c.initialize([0, 1], 1)\n",
    "swap_qubits(c, 0, 1)\n",
    "c.save_statevector()\n",
    "c.draw(\"mpl\")"
   ]
  },
  {
   "cell_type": "code",
   "execution_count": 4,
   "metadata": {},
   "outputs": [
    {
     "data": {
      "text/latex": [
       "$$\n",
       "\\text{State after swap = }\n",
       "\\begin{bmatrix}\n",
       "0 & 1 & 0 & 0  \\\\\n",
       " \\end{bmatrix}\n",
       "$$"
      ],
      "text/plain": [
       "<IPython.core.display.Latex object>"
      ]
     },
     "execution_count": 4,
     "metadata": {},
     "output_type": "execute_result"
    }
   ],
   "source": [
    "array_to_latex(sim.run(assemble(c)).result().get_statevector(), prefix=\"\\\\text{State after swap = }\")"
   ]
  },
  {
   "cell_type": "markdown",
   "metadata": {},
   "source": [
    "2. Increment mod 8"
   ]
  },
  {
   "cell_type": "code",
   "execution_count": 5,
   "metadata": {},
   "outputs": [],
   "source": [
    "def increment(n):\n",
    "    c = QuantumCircuit(3)\n",
    "\n",
    "    for i in range(3):\n",
    "        c.initialize([0, 1] if (n % 2) else [1, 0], i)\n",
    "        n //= 2\n",
    "    \n",
    "    c.ccx(0, 1, 2) \n",
    "    c.cx(0, 1)\n",
    "    c.x(0)\n",
    "    c.save_statevector()\n",
    "    #for i in range(3): c.measure(i, i)\n",
    "    return c"
   ]
  },
  {
   "cell_type": "code",
   "execution_count": 6,
   "metadata": {},
   "outputs": [
    {
     "name": "stdout",
     "output_type": "stream",
     "text": [
      "\n",
      "Circuit diagram: \n"
     ]
    },
    {
     "data": {
      "image/png": "[encoded data removed]",
      "text/plain": [
       "<Figure size 327.397x204.68 with 1 Axes>"
      ]
     },
     "execution_count": 6,
     "metadata": {},
     "output_type": "execute_result"
    }
   ],
   "source": [
    "# print the circuit diagram\n",
    "c = QuantumCircuit(3); c.ccx(0, 1, 2); c.cx(0, 1); c.x(0); c.barrier()\n",
    "print(\"\\nCircuit diagram: \"); c.draw(output=\"mpl\")\n"
   ]
  },
  {
   "cell_type": "code",
   "execution_count": 7,
   "metadata": {},
   "outputs": [
    {
     "name": "stdout",
     "output_type": "stream",
     "text": [
      "incremented from 0 to 1\n",
      "incremented from 1 to 2\n",
      "incremented from 2 to 3\n",
      "incremented from 3 to 4\n",
      "incremented from 4 to 5\n",
      "incremented from 5 to 6\n",
      "incremented from 6 to 7\n",
      "incremented from 7 to 0\n"
     ]
    }
   ],
   "source": [
    "for n in range(8):\n",
    "    c = increment(n)\n",
    "    vec = sim.run(assemble(c)).result().get_statevector()\n",
    "    for i in range(len(asarray(vec))):\n",
    "        if vec[i] == 1: print(f\"incremented from {n} to {i}\"); break"
   ]
  }
 ],
 "metadata": {
  "kernelspec": {
   "display_name": "Python 3.9.13 64-bit",
   "language": "python",
   "name": "python3"
  },
  "language_info": {
   "codemirror_mode": {
    "name": "ipython",
    "version": 3
   },
   "file_extension": ".py",
   "mimetype": "text/x-python",
   "name": "python",
   "nbconvert_exporter": "python",
   "pygments_lexer": "ipython3",
   "version": "3.9.13"
  },
  "orig_nbformat": 4,
  "vscode": {
   "interpreter": {
    "hash": "b0fa6594d8f4cbf19f97940f81e996739fb7646882a419484c72d19e05852a7e"
   }
  }
 },
 "nbformat": 4,
 "nbformat_minor": 2
}
