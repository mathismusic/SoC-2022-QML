{
 "cells": [
  {
   "cell_type": "markdown",
   "metadata": {},
   "source": [
    "# Quantum Circuit to add any two numbers."
   ]
  },
  {
   "cell_type": "code",
   "execution_count": 1,
   "metadata": {},
   "outputs": [],
   "source": [
    "from qiskit import Aer, QuantumCircuit, QuantumRegister, ClassicalRegister, assemble\n",
    "sim = Aer.get_backend('aer_simulator')"
   ]
  },
  {
   "cell_type": "code",
   "execution_count": 2,
   "metadata": {},
   "outputs": [],
   "source": [
    "def numbers_to_ckt(x, y):\n",
    "    xbin = bin(x).replace(\"0b\", \"\", 1)\n",
    "    ybin = bin(y).replace(\"0b\", \"\", 1)\n",
    "    #assert(len(xbin) == len(ybin))\n",
    "    n = max(len(xbin), len(ybin)) # now we can add any two numbers irrespective of relative size.\n",
    "    qbits_x = QuantumRegister(n, \"first number\")\n",
    "    qbits_y = QuantumRegister(n, \"second number\")\n",
    "    qbits_ans = QuantumRegister(n+1, \"answer qubits\")\n",
    "    cbits_ans = ClassicalRegister(n+1, \"answer cbits\")\n",
    "    c = QuantumCircuit(qbits_x, qbits_y, qbits_ans, cbits_ans)\n",
    "    for i in range(len(xbin)): \n",
    "        if xbin[len(xbin)-1-i] == \"1\": c.x(i)\n",
    "    for i in range(len(ybin)):\n",
    "        if ybin[len(ybin)-1-i] == \"1\": c.x(n + i)\n",
    "    c.barrier()\n",
    "    return c, n"
   ]
  },
  {
   "cell_type": "code",
   "execution_count": 3,
   "metadata": {},
   "outputs": [],
   "source": [
    "def carryFromAddnOf3bits(ckt, bit1, bit2, bit3, carrybit):\n",
    "    \"\"\"expects carrybit is |0> initially. The algorithm will then place its final value in it.\"\"\"\n",
    "    # idea: carrybt == 1 iff at least two of the three bits are 1. use ccx to check for the case of two bits being 1, and coincidentally(since 1 xor 1 xor 1 = 1 as well) the case of all being 1 is also taken care of.\n",
    "    ckt.ccx(bit1, bit2, carrybit)\n",
    "    ckt.ccx(bit2, bit3, carrybit)\n",
    "    ckt.ccx(bit3, bit1, carrybit)\n",
    "    ckt.barrier()"
   ]
  },
  {
   "cell_type": "code",
   "execution_count": 4,
   "metadata": {},
   "outputs": [],
   "source": [
    "def add(x, y):\n",
    "    ckt, n = numbers_to_ckt(x, y) # n is the number of bits in x and y\n",
    "    \n",
    "    for i in range(n):\n",
    "        # get the carry of the ith digit addition onto the i+1th answer qubit. Of course the modulo 2^n is taken care by the if not statement. To add them fully(no truncating if ans exceeds 2^n), add one more answer bit and remove the if not. -- we'll do that, the mod n answer can be extracted to be the last n digits of the answer qubits.\n",
    "        # if not i == n-1:\n",
    "        #     carryFromAddnOf3bits(ckt, i, n+i, 2*n+i, 2*n + i + 1)\n",
    "        carryFromAddnOf3bits(ckt, i, n+i, 2*n+i, 2*n+i+1)\n",
    "        # now store the ith digit in qubit 2n+i\n",
    "        ckt.cx(i, 2*n + i)\n",
    "        ckt.cx(n + i, 2*n + i) # current digit = its prev value(carry)\n",
    "        ckt.barrier()\n",
    "        \n",
    "    # finally measure the answer qubits.\n",
    "    for i in range(n+1): \n",
    "        ckt.measure(2*n + i, i)\n",
    "    return ckt\n"
   ]
  },
  {
   "cell_type": "code",
   "execution_count": 5,
   "metadata": {},
   "outputs": [],
   "source": [
    "ckt = add(37, 63)\n",
    "#ckt.draw(\"mpl\")"
   ]
  },
  {
   "cell_type": "code",
   "execution_count": 6,
   "metadata": {},
   "outputs": [
    {
     "name": "stdout",
     "output_type": "stream",
     "text": [
      "100\n"
     ]
    }
   ],
   "source": [
    "answer = list(sim.run(assemble(ckt)).result().get_counts())[0]\n",
    "print(int(answer, 2))"
   ]
  }
 ],
 "metadata": {
  "kernelspec": {
   "display_name": "Python 3.9.13 64-bit",
   "language": "python",
   "name": "python3"
  },
  "language_info": {
   "codemirror_mode": {
    "name": "ipython",
    "version": 3
   },
   "file_extension": ".py",
   "mimetype": "text/x-python",
   "name": "python",
   "nbconvert_exporter": "python",
   "pygments_lexer": "ipython3",
   "version": "3.9.13"
  },
  "orig_nbformat": 4,
  "vscode": {
   "interpreter": {
    "hash": "b0fa6594d8f4cbf19f97940f81e996739fb7646882a419484c72d19e05852a7e"
   }
  }
 },
 "nbformat": 4,
 "nbformat_minor": 2
}
