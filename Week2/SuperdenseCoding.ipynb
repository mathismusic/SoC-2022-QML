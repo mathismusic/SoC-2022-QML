{
 "cells": [
  {
   "cell_type": "markdown",
   "metadata": {},
   "source": [
    "# Superdense Coding"
   ]
  },
  {
   "cell_type": "markdown",
   "metadata": {},
   "source": [
    "<strong>Idea</strong>: \n",
    "Alice and Bob have one qubit each of a Bell pair.\n",
    "A classical message is coded into Alice's qubit as single-qubit operations. The coded qubit is sent to Bob. The classical message is then decoded by Bob via some operations on his qubit. Measurement of the two qubits Bob has gives the classical message."
   ]
  },
  {
   "cell_type": "code",
   "execution_count": 86,
   "metadata": {},
   "outputs": [],
   "source": [
    "from qiskit import Aer, assemble, QuantumCircuit\n",
    "sim = Aer.get_backend('aer_simulator')"
   ]
  },
  {
   "cell_type": "code",
   "execution_count": 87,
   "metadata": {},
   "outputs": [],
   "source": [
    "def make_bell_ckt():\n",
    "    \"\"\"makes the bell state |\\Phi^+\\rangle\"\"\"\n",
    "    c = QuantumCircuit(2)\n",
    "    c.h(1); c.cx(1, 0)\n",
    "    c.barrier()\n",
    "    return c"
   ]
  },
  {
   "cell_type": "code",
   "execution_count": 88,
   "metadata": {},
   "outputs": [],
   "source": [
    "def code(qckt, index, classical_message):\n",
    "    if len(classical_message) != 2: print(\"exactly two bits of data expected.\\n\"); return None\n",
    "    if classical_message[1] == \"1\": qckt.x(index)\n",
    "    if classical_message[0] == \"1\": qckt.z(index)\n",
    "    qckt.barrier()\n",
    "    return qckt"
   ]
  },
  {
   "cell_type": "code",
   "execution_count": 89,
   "metadata": {},
   "outputs": [],
   "source": [
    "def decode(qckt):\n",
    "    qckt.cx(1, 0); c.h(1)\n",
    "    return qckt"
   ]
  },
  {
   "cell_type": "code",
   "execution_count": 90,
   "metadata": {},
   "outputs": [
    {
     "data": {
      "image/png": "[encoded data removed]",
      "text/plain": [
       "<Figure size 658.679x204.68 with 1 Axes>"
      ]
     },
     "execution_count": 90,
     "metadata": {},
     "output_type": "execute_result"
    }
   ],
   "source": [
    "c = make_bell_ckt()\n",
    "c = decode(code(c, 1, \"00\"))\n",
    "c.measure_all()\n",
    "c.draw(\"mpl\")"
   ]
  },
  {
   "cell_type": "code",
   "execution_count": 91,
   "metadata": {},
   "outputs": [
    {
     "name": "stdout",
     "output_type": "stream",
     "text": [
      "00\n"
     ]
    }
   ],
   "source": [
    "ans = sim.run(assemble(c)).result().get_counts().keys()\n",
    "ans = list(ans)[0]\n",
    "print(ans)"
   ]
  }
 ],
 "metadata": {
  "kernelspec": {
   "display_name": "Python 3.9.13 64-bit",
   "language": "python",
   "name": "python3"
  },
  "language_info": {
   "codemirror_mode": {
    "name": "ipython",
    "version": 3
   },
   "file_extension": ".py",
   "mimetype": "text/x-python",
   "name": "python",
   "nbconvert_exporter": "python",
   "pygments_lexer": "ipython3",
   "version": "3.9.13"
  },
  "orig_nbformat": 4,
  "vscode": {
   "interpreter": {
    "hash": "b0fa6594d8f4cbf19f97940f81e996739fb7646882a419484c72d19e05852a7e"
   }
  }
 },
 "nbformat": 4,
 "nbformat_minor": 2
}
