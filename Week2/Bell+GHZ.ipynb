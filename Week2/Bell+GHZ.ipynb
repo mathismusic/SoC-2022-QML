{
 "cells": [
  {
   "cell_type": "markdown",
   "metadata": {},
   "source": [
    "# Preparing the Bell states."
   ]
  },
  {
   "cell_type": "code",
   "execution_count": 1,
   "metadata": {},
   "outputs": [],
   "source": [
    "from qiskit import QuantumCircuit, Aer, assemble\n",
    "from qiskit.visualization import array_to_latex\n",
    "sim = Aer.get_backend(\"aer_simulator\")\n",
    "\n",
    "from IPython.core.interactiveshell import InteractiveShell\n",
    "InteractiveShell.ast_node_interactivity = \"all\""
   ]
  },
  {
   "cell_type": "code",
   "execution_count": 2,
   "metadata": {},
   "outputs": [
    {
     "data": {
      "image/png": "[encoded data removed]",
      "text/plain": [
       "<Figure size 267.052x144.48 with 1 Axes>"
      ]
     },
     "execution_count": 2,
     "metadata": {},
     "output_type": "execute_result"
    }
   ],
   "source": [
    "def prepareFirstBellState():\n",
    "    c = QuantumCircuit(2) # 00\n",
    "    c.h(0) # 00+01/sqrt(2)\n",
    "    c.cx(0, 1) # 00 + 11/sqrt(2)\n",
    "    c.save_statevector()\n",
    "    return c\n",
    "c = prepareFirstBellState()\n",
    "c.draw(\"mpl\")\n",
    "s1 = sim.run(assemble(c)).result().get_statevector()"
   ]
  },
  {
   "cell_type": "code",
   "execution_count": 3,
   "metadata": {},
   "outputs": [
    {
     "data": {
      "image/png": "[encoded data removed]",
      "text/plain": [
       "<Figure size 387.452x144.48 with 1 Axes>"
      ]
     },
     "execution_count": 3,
     "metadata": {},
     "output_type": "execute_result"
    }
   ],
   "source": [
    "def prepareSecondBellState():\n",
    "    c = QuantumCircuit(2) # 00\n",
    "    c.x(0) # to get the - in Phi^-, 01\n",
    "    c.barrier()\n",
    "    c.h(0) # 00-01/sqrt(2)\n",
    "    c.cx(0, 1) # 00 - 11/sqrt(2)\n",
    "    c.save_statevector()\n",
    "    return c\n",
    "c = prepareSecondBellState()\n",
    "c.draw(\"mpl\")\n",
    "s2 = sim.run(assemble(c)).result().get_statevector()"
   ]
  },
  {
   "cell_type": "code",
   "execution_count": 4,
   "metadata": {},
   "outputs": [
    {
     "data": {
      "image/png": "[encoded data removed]",
      "text/plain": [
       "<Figure size 267.052x144.48 with 1 Axes>"
      ]
     },
     "execution_count": 4,
     "metadata": {},
     "output_type": "execute_result"
    }
   ],
   "source": [
    "def prepareThirdBellState():\n",
    "    c = QuantumCircuit(2) # 00\n",
    "    c.h(0); c.x(1) # 10+11/sqrt(2)\n",
    "    c.cx(0, 1) # 10+01/sqrt(2)\n",
    "    c.save_statevector()\n",
    "    return c\n",
    "c = prepareThirdBellState()\n",
    "c.draw(\"mpl\")\n",
    "s3 = sim.run(assemble(c)).result().get_statevector()"
   ]
  },
  {
   "cell_type": "code",
   "execution_count": 5,
   "metadata": {},
   "outputs": [
    {
     "data": {
      "image/png": "[encoded data removed]",
      "text/plain": [
       "<Figure size 387.452x144.48 with 1 Axes>"
      ]
     },
     "execution_count": 5,
     "metadata": {},
     "output_type": "execute_result"
    }
   ],
   "source": [
    "def prepareFourthBellState():\n",
    "    c = QuantumCircuit(2) # 00\n",
    "    c.x(0) # to help get the - in Psi^-, 01\n",
    "    c.barrier()\n",
    "    c.h(0); c.x(1) # 10-11/sqrt(2)\n",
    "    c.cx(0, 1) # 10-01/sqrt(2)\n",
    "    c.save_statevector()\n",
    "    return c\n",
    "c = prepareFourthBellState()\n",
    "c.draw(\"mpl\")\n",
    "s4 = sim.run(assemble(c)).result().get_statevector()"
   ]
  },
  {
   "cell_type": "code",
   "execution_count": 6,
   "metadata": {},
   "outputs": [
    {
     "data": {
      "text/latex": [
       "$$\n",
       "\\Phi^+ = \n",
       "\\begin{bmatrix}\n",
       "\\tfrac{1}{\\sqrt{2}} & 0 & 0 & \\tfrac{1}{\\sqrt{2}}  \\\\\n",
       " \\end{bmatrix}\n",
       "$$"
      ],
      "text/plain": [
       "<IPython.core.display.Latex object>"
      ]
     },
     "execution_count": 6,
     "metadata": {},
     "output_type": "execute_result"
    },
    {
     "data": {
      "text/latex": [
       "$$\n",
       "\\Phi^- = \n",
       "\\begin{bmatrix}\n",
       "\\tfrac{1}{\\sqrt{2}} & 0 & 0 & -\\tfrac{1}{\\sqrt{2}}  \\\\\n",
       " \\end{bmatrix}\n",
       "$$"
      ],
      "text/plain": [
       "<IPython.core.display.Latex object>"
      ]
     },
     "execution_count": 6,
     "metadata": {},
     "output_type": "execute_result"
    },
    {
     "data": {
      "text/latex": [
       "$$\n",
       "\\Psi^+ = \n",
       "\\begin{bmatrix}\n",
       "0 & \\tfrac{1}{\\sqrt{2}} & \\tfrac{1}{\\sqrt{2}} & 0  \\\\\n",
       " \\end{bmatrix}\n",
       "$$"
      ],
      "text/plain": [
       "<IPython.core.display.Latex object>"
      ]
     },
     "execution_count": 6,
     "metadata": {},
     "output_type": "execute_result"
    },
    {
     "data": {
      "text/latex": [
       "$$\n",
       "\\Psi^- = \n",
       "\\begin{bmatrix}\n",
       "0 & -\\tfrac{1}{\\sqrt{2}} & \\tfrac{1}{\\sqrt{2}} & 0  \\\\\n",
       " \\end{bmatrix}\n",
       "$$"
      ],
      "text/plain": [
       "<IPython.core.display.Latex object>"
      ]
     },
     "execution_count": 6,
     "metadata": {},
     "output_type": "execute_result"
    }
   ],
   "source": [
    "array_to_latex(s1, prefix=\"\\\\Phi^+ = \")\n",
    "array_to_latex(s2, prefix=\"\\\\Phi^- = \")    \n",
    "array_to_latex(s3, prefix=\"\\\\Psi^+ = \") \n",
    "array_to_latex(s4, prefix=\"\\\\Psi^- = \")  "
   ]
  },
  {
   "cell_type": "markdown",
   "metadata": {},
   "source": [
    "# Preparing the GHZ(n) state: \n",
    "The idea is to extend the first qubit's control over the second one (which we used in the Bell States) to being first qubit's control over each of the other n-1 bits."
   ]
  },
  {
   "cell_type": "code",
   "execution_count": 7,
   "metadata": {},
   "outputs": [],
   "source": [
    "def GHZ(n):\n",
    "    c = QuantumCircuit(n)\n",
    "    c.h(0) # first get the 0, 1 and the sqrt(2)\n",
    "    for i in range(1, n): c.cx(0, i)\n",
    "    c.save_statevector()\n",
    "    return c"
   ]
  },
  {
   "cell_type": "code",
   "execution_count": 9,
   "metadata": {},
   "outputs": [
    {
     "data": {
      "image/png": "[encoded data removed]",
      "text/plain": [
       "<Figure size 447.797x325.08 with 1 Axes>"
      ]
     },
     "execution_count": 9,
     "metadata": {},
     "output_type": "execute_result"
    },
    {
     "data": {
      "text/latex": [
       "$$\n",
       "\\text{GHZ(5) = }\n",
       "\\begin{bmatrix}\n",
       "\\tfrac{1}{\\sqrt{2}} & 0 & 0 & 0 & \\cdots & 0 & 0 & \\tfrac{1}{\\sqrt{2}}  \\\\\n",
       " \\end{bmatrix}\n",
       "$$"
      ],
      "text/plain": [
       "<IPython.core.display.Latex object>"
      ]
     },
     "execution_count": 9,
     "metadata": {},
     "output_type": "execute_result"
    }
   ],
   "source": [
    "# example usecase\n",
    "n = 5\n",
    "c = GHZ(n)\n",
    "c.draw(\"mpl\")\n",
    "array_to_latex(sim.run(assemble(c)).result().get_statevector(), prefix=\"\\\\text{GHZ(\" + str(n) + \") = }\")"
   ]
  }
 ],
 "metadata": {
  "kernelspec": {
   "display_name": "Python 3.9.13 64-bit",
   "language": "python",
   "name": "python3"
  },
  "language_info": {
   "codemirror_mode": {
    "name": "ipython",
    "version": 3
   },
   "file_extension": ".py",
   "mimetype": "text/x-python",
   "name": "python",
   "nbconvert_exporter": "python",
   "pygments_lexer": "ipython3",
   "version": "3.9.13"
  },
  "orig_nbformat": 4,
  "vscode": {
   "interpreter": {
    "hash": "b0fa6594d8f4cbf19f97940f81e996739fb7646882a419484c72d19e05852a7e"
   }
  }
 },
 "nbformat": 4,
 "nbformat_minor": 2
}
