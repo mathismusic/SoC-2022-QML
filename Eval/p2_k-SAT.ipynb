{
 "cells": [
  {
   "cell_type": "markdown",
   "metadata": {},
   "source": [
    "# 2. Quantum k-SAT\n",
    "We implement an algorithm to solve an arbitrary k-SAT problem!"
   ]
  },
  {
   "cell_type": "markdown",
   "metadata": {},
   "source": [
    "A general function $F(x)$ for the k-SAT problem looks like:\n",
    "$$F(x_1, ..., x_n) = \\bigcap_{i=1}^m C_i$$ \n",
    "with each $C_i$ is a union of atmost $k$ variables or their negations.\n",
    "\n",
    "We first rephrase the problem as a search problem: An $x = (x_1, x_2, \\cdots x_n) \\in \\{0, 1\\}^n$ such that $F(x) = 1$ is called a solution to the search problem. The search problem is to find a solution $x$. We employ Grover's method to solve it.\n",
    "\n",
    "Setup:\n",
    "The state $x$ is encoded using $n$ qubits with the $i^{\\text{th}}$ qubit being in the state $|1\\rangle$ if $x_i$ is 1 and in $|0\\rangle$ otherwise. We also add one more qubit to the $n$ qubits in order to double the solution space. We also have $m$ qubits labelled $C_0 \\cdot C_{m-1}$ as part of the oracle workspace. Finally, we have one qubit in the state $|-\\rangle$ to get the $(-1)^{F(x)}$ effect from the Oracle.\n",
    "\n",
    "Now for the oracle itself. It computes $F(x)$ from the $C_i$'s using an AND gate(implemented below), where each $C_i$ gate is implemented using an OR gate. Note that we also do some cleanup after computing F(x)(in particular, we uncompute the $C_i$'s) to reuse the workspace(aka the $C_i$'s) qubits for the (possibly) next iteration. Finally, we augment this oracle to the qubit with index n with a couple of $X$ gates to construct the final augmented oracle."
   ]
  },
  {
   "cell_type": "code",
   "execution_count": 168,
   "metadata": {},
   "outputs": [],
   "source": [
    "from qiskit import QuantumCircuit, Aer, transpile\n",
    "from qiskit.circuit.library.standard_gates import ZGate\n",
    "sim = Aer.get_backend('aer_simulator')\n",
    "\n",
    "import numpy as np\n",
    "from IPython.display import display, Math"
   ]
  },
  {
   "cell_type": "code",
   "execution_count": 141,
   "metadata": {},
   "outputs": [],
   "source": [
    "def AND(ckt: QuantumCircuit, qubits: list, ans_index: int):\n",
    "    \"\"\"computes the AND of the qubits with indices in the iterable qubits and stores the answer in(adds the answer to) the qubit with index ans_index\"\"\"\n",
    "    #print(qubits)\n",
    "    ckt.mcx(qubits, ans_index)\n",
    "    return ckt"
   ]
  },
  {
   "cell_type": "code",
   "execution_count": 142,
   "metadata": {},
   "outputs": [],
   "source": [
    "def OR(ckt: QuantumCircuit, qubits: list, toNOT: list, ans_index: int):\n",
    "    \"\"\"computes the OR of the qubits with indices in the iterable qubits and stores the answer in the qubit with index ans_index. The other parameter toNOT is an optimization: it tells us which qubits are NOT-ted in the union/OR. So basically we compute the NOTs and the OR in one sweep.\"\"\"\n",
    "    # Idea: We use that union(A_i) = (AND(A_i^c))^c. The AND is very easily implemented using the multi-controlled X gate.\n",
    "    #print(list(zip(qubits, toNOT)))\n",
    "    for index, qubit in enumerate(qubits):\n",
    "        if not toNOT[index]: ckt.x(qubit)\n",
    "    AND(ckt, qubits, ans_index)\n",
    "    for index, qubit in enumerate(qubits): # restore the values of the qubits which had been X-ed.\n",
    "        if not toNOT[index]: ckt.x(qubit) \n",
    "    ckt.x(ans_index)\n",
    "    return ckt"
   ]
  },
  {
   "cell_type": "code",
   "execution_count": 143,
   "metadata": {},
   "outputs": [],
   "source": [
    "def oracle(n: int, function: list[list[int]]):\n",
    "    # The - denotes a NOT being taken. The function F* is represented as [[1, -2], [3, 4, -1], [2, -5]].\n",
    "    ckt = QuantumCircuit(n + len(function) + 1) \n",
    "    # compute the C_i's.\n",
    "    for i, C_i in enumerate(function):\n",
    "        ckt = OR(ckt, qubits=[abs(qubit) - 1 for qubit in C_i], toNOT=[(qubit < 0) for qubit in C_i], ans_index=n + i)\n",
    "        #ckt.barrier()\n",
    "        \n",
    "    # compute F(x) and xor it to the last qubit\n",
    "    ckt = AND(ckt, list(range(n, n + len(function))), n + len(function))\n",
    "    #ckt.barrier()\n",
    "    \n",
    "    # uncompute the C_is to reuse workspace for next iteration\n",
    "    for i, C_i in enumerate(reversed(function)):\n",
    "        ckt.x(n + len(function)-1-i) # i still goes 0 to len(function)-1, only C_i's are reversed.\n",
    "        for qubit in C_i:\n",
    "            if qubit > 0: ckt.x(qubit-1)\n",
    "        ckt = AND(ckt, [abs(qubit) - 1 for qubit in C_i], n + len(function)-1-i)\n",
    "        for qubit in C_i:\n",
    "            if qubit > 0: ckt.x(qubit-1)\n",
    "        #ckt.barrier()\n",
    "\n",
    "    return ckt.to_gate(label=\" oracle(f) \")\n",
    "\n",
    "def augmented_oracle(n: int, oracle, f: list[list[int]]):\n",
    "    \"\"\"returns an Augmented oracle on n qubits(incl the dummy qubit) with len(f) workspace qubits. 1 more qubit to store answer.\"\"\"\n",
    "    c = QuantumCircuit(n + len(f) + 1)\n",
    "    c.x(n-1)\n",
    "    c.append(oracle(n-1, f).control(num_ctrl_qubits=1), [n-1] + list(range(n-1)) + list(range(n, n + len(f) + 1)))\n",
    "    c.x(n-1)\n",
    "    return c"
   ]
  },
  {
   "cell_type": "code",
   "execution_count": 145,
   "metadata": {},
   "outputs": [],
   "source": [
    "def conditional_phase_shift(n: int):\n",
    "    ckt = QuantumCircuit(n)\n",
    "    ckt.x(range(n))\n",
    "    ckt = ckt.compose(ZGate().control(num_ctrl_qubits=n-1))\n",
    "    ckt.x(range(n))\n",
    "    return ckt#.to_gate(label=\"Phase\\nShift\")\n",
    "\n",
    "def grover_iteration(ckt: QuantumCircuit, n: int, oracle, f, augmented:bool = True):\n",
    "    \n",
    "    if augmented: ckt = ckt.compose(augmented_oracle(n, oracle, f))\n",
    "    else: ckt = ckt.compose(oracle(n, f))\n",
    "    ckt.barrier()\n",
    "    ckt.h(range(n))\n",
    "    ckt = ckt.compose(conditional_phase_shift(n))\n",
    "    ckt.h(range(n))\n",
    "    return ckt"
   ]
  },
  {
   "cell_type": "code",
   "execution_count": 146,
   "metadata": {},
   "outputs": [],
   "source": [
    "# original solution with no augmentation -> would not work if M >= N/2.\n",
    "def solve(n: int, oracle, f, M: int):\n",
    "    ckt = QuantumCircuit(n + len(f) + 1, n)\n",
    "    \n",
    "    N = 2**n\n",
    "    theta = 2*np.arcsin(np.sqrt(M/N))\n",
    "    assert(theta < np.pi/2)\n",
    "    print(\"theta is approximately\", round(theta*180/np.pi), \"degrees.\")\n",
    "    iterations = round(np.pi/(2*theta) - 0.5)\n",
    "    print(f\"number of iterations(k) is {iterations}\")\n",
    "    \n",
    "    # initialize\n",
    "    ckt.h(range(n))\n",
    "    ckt.x(n + len(f)); ckt.h(n + len(f)) # get the last qubit into |-\\rangle\n",
    "    ckt.barrier()\n",
    "    \n",
    "    # iterate\n",
    "    for _ in range(iterations):\n",
    "        ckt = grover_iteration(ckt, n, oracle, f, augmented=False)\n",
    "        ckt.barrier()\n",
    "    \n",
    "    # measure\n",
    "    ckt.measure(range(n), range(n))\n",
    "\n",
    "    possible_solutions = sim.run(transpile(ckt, sim), shots=4096).result().get_counts()\n",
    "    # return ckt, possible_solutions\n",
    "    possible_solutions = [(int(key, 2), value) for key, value in possible_solutions.items()]\n",
    "    possible_solutions = sorted(possible_solutions, key=lambda item: item[1], reverse=True)\n",
    "\n",
    "    return ckt, possible_solutions"
   ]
  },
  {
   "cell_type": "code",
   "execution_count": 147,
   "metadata": {},
   "outputs": [],
   "source": [
    "# takes care of augmentation as well, and can successfully solve any k-SAT!\n",
    "def solve(n: int, oracle, f, M: int):\n",
    "    augmented = (M >= np.ceil(2**(n-1))) # M >= N/2 = 2**n/2 = 2**(n-1)\n",
    "    if augmented:\n",
    "        n += 1 # solve with the augmented oracle. Optimize on number of qubits used by solving with augmented only if M >= N/2.\n",
    "    \n",
    "    ckt = QuantumCircuit(n + len(f) + 1, n-1 if augmented else n)\n",
    "    N = 2**n\n",
    "\n",
    "    theta = 2*np.arcsin(np.sqrt(M/N)) # or np.arcsin(2*np.sqrt(M*(N-M))/N)\n",
    "    assert(theta < np.pi/2)\n",
    "    print(\"theta is approximately\", round(theta*180/np.pi), \"degrees.\")\n",
    "    iterations = round(np.pi/(2*theta) - 0.5)\n",
    "    print(f\"Number of iterations is {iterations}.\")\n",
    "    \n",
    "    # initialize\n",
    "    ckt.h(range(n)) # all n qubits are part of our state space(even if augmented!)\n",
    "    ckt.x(n + len(f)); ckt.h(n + len(f)) # get the last qubit into |- >\n",
    "    ckt.barrier()\n",
    "    \n",
    "    # iterate\n",
    "    for _ in range(iterations):\n",
    "        ckt = grover_iteration(ckt, n, oracle, f, augmented=augmented)\n",
    "        ckt.barrier()\n",
    "    \n",
    "    # measure\n",
    "    if augmented: \n",
    "        ckt.measure(range(n-1), range(n-1)) # we could but we don't need to measure the last qubit, since it is anyway 0(and x = 0x) in any solution 0x. So might as well just get x instead.\n",
    "    else: \n",
    "        ckt.measure(range(n), range(n))\n",
    "    \n",
    "    possible_solutions = sim.run(transpile(ckt, sim), shots=4096).result().get_counts()\n",
    "    possible_solutions = [(int(key, 2), value) for key, value in possible_solutions.items()]\n",
    "    possible_solutions = sorted(possible_solutions, key=lambda item: item[1], reverse=True)\n",
    "\n",
    "    return ckt, possible_solutions"
   ]
  },
  {
   "cell_type": "code",
   "execution_count": null,
   "metadata": {},
   "outputs": [],
   "source": [
    "# help print the function in Latex onto the screen\n",
    "def pprint(n: int, f: list[list[int]]) -> str:\n",
    "    ans = 'f('\n",
    "    if n == 1: ans += ') = '\n",
    "    elif n == 2: ans += 'x_1, x_2) = '\n",
    "    else: ans += f'x_1, ..., x_{n}) = '\n",
    "\n",
    "    for C_i in f:\n",
    "        ans += '('\n",
    "        for elem in C_i:\n",
    "            if elem < 0: ans += '\\lnot '\n",
    "            ans += f'x_{abs(elem)}'\n",
    "            if elem != C_i[-1]:\n",
    "                ans += ' \\lor '\n",
    "        ans += ')'\n",
    "        if C_i != f[-1]: ans += ' \\land '\n",
    "    return ans"
   ]
  },
  {
   "cell_type": "code",
   "execution_count": 180,
   "metadata": {},
   "outputs": [
    {
     "data": {
      "text/latex": [
       "$\\displaystyle f(x_1, ..., x_5) = (x_1 \\lor \\lnot x_2) \\land (x_3 \\lor x_4 \\lor \\lnot x_1) \\land (x_2 \\lor \\lnot x_5)$"
      ],
      "text/plain": [
       "<IPython.core.display.Math object>"
      ]
     },
     "metadata": {},
     "output_type": "display_data"
    },
    {
     "name": "stdout",
     "output_type": "stream",
     "text": [
      "\n",
      "Running Algorithm...\n",
      "theta is approximately 79 degrees.\n",
      "Number of iterations is 1.\n"
     ]
    },
    {
     "data": {
      "image/png": "[encoded data removed]",
      "text/plain": [
       "<Figure size 1110x626.08 with 1 Axes>"
      ]
     },
     "execution_count": 180,
     "metadata": {},
     "output_type": "execute_result"
    }
   ],
   "source": [
    "n = 5; f = [[1, -2], [3, 4, -1], [2, -5]]; M = 13\n",
    "display(Math(pprint(n, f)))\n",
    "print('\\nRunning Algorithm...')\n",
    "ckt, possible_solutions = solve(n, oracle, f, M=M)\n",
    "ckt.draw(\"mpl\")"
   ]
  },
  {
   "cell_type": "code",
   "execution_count": 181,
   "metadata": {},
   "outputs": [
    {
     "name": "stdout",
     "output_type": "stream",
     "text": [
      "[(12, 256), (11, 256), (27, 253), (4, 252), (0, 248), (8, 246), (31, 241), (15, 239), (23, 238), (13, 237), (9, 234), (7, 223), (5, 210), (25, 64), (22, 59), (16, 57), (29, 56), (17, 54), (6, 54), (1, 53), (18, 52), (21, 52), (28, 51), (30, 50), (2, 49), (24, 48), (14, 48), (3, 45), (10, 43), (26, 43), (19, 43), (20, 42)]\n"
     ]
    }
   ],
   "source": [
    "print(possible_solutions)"
   ]
  },
  {
   "cell_type": "code",
   "execution_count": 182,
   "metadata": {},
   "outputs": [
    {
     "name": "stdout",
     "output_type": "stream",
     "text": [
      "Solutions: [0, 4, 5, 7, 8, 9, 11, 12, 13, 15, 23, 27, 31]\n"
     ]
    }
   ],
   "source": [
    "print(\"Solutions:\", sorted(possible_solutions[i][0] for i in range(M)))"
   ]
  }
 ],
 "metadata": {
  "kernelspec": {
   "display_name": "Python 3.9.13 64-bit",
   "language": "python",
   "name": "python3"
  },
  "language_info": {
   "codemirror_mode": {
    "name": "ipython",
    "version": 3
   },
   "file_extension": ".py",
   "mimetype": "text/x-python",
   "name": "python",
   "nbconvert_exporter": "python",
   "pygments_lexer": "ipython3",
   "version": "3.9.13"
  },
  "orig_nbformat": 4,
  "vscode": {
   "interpreter": {
    "hash": "b0fa6594d8f4cbf19f97940f81e996739fb7646882a419484c72d19e05852a7e"
   }
  }
 },
 "nbformat": 4,
 "nbformat_minor": 2
}
