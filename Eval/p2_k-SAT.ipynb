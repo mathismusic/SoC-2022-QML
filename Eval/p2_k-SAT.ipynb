{
 "cells": [
  {
   "cell_type": "markdown",
   "metadata": {},
   "source": [
    "# 2. Quantum k-SAT\n",
    "We implement an algorithm to solve an arbitrary k-SAT problem!"
   ]
  },
  {
   "cell_type": "markdown",
   "metadata": {},
   "source": [
    "A general function $F(x)$ for the k-SAT problem looks like:\n",
    "$$F(x_1, ..., x_n) = \\bigcap_{i=1}^m C_i$$ \n",
    "with each $C_i$ is a union of atmost $k$ variables or their negations.\n",
    "\n",
    "We first rephrase the problem as a search problem: An $x = (x_1, x_2, \\cdots x_n) \\in \\{0, 1\\}^n$ such that $F(x) = 1$ is called a solution to the search problem. The search problem is to find a solution $x$. We employ Grover's method to solve it.\n",
    "\n",
    "Setup:\n",
    "The state $x$ is encoded using $n$ qubits with the $i^{\\text{th}}$ qubit being in the state $|1\\rangle$ if $x_i$ is 1 and in $|0\\rangle$ otherwise. We also add one more qubit to the $n$ qubits in order to double the solution space. We also have $m$ qubits labelled $C_0 \\cdot C_{m-1}$ as part of the oracle workspace. Finally, we have one qubit in the state $|-\\rangle$ to get the $(-1)^{F(x)}$ effect from the Oracle.\n",
    "\n",
    "Now for the oracle itself. It computes $F(x)$ from the $C_i$'s using an AND gate(implemented below), where each $C_i$ gate is implemented using an OR gate. Note that we also do some cleanup after computing F(x)(in particular, we uncompute the $C_i$'s) to reuse the workspace(aka the $C_i$'s) qubits for the (possibly) next iteration. Finally, we augment this oracle to the qubit with index n with a couple of $X$ gates to construct the final augmented oracle."
   ]
  },
  {
   "cell_type": "code",
   "execution_count": 936,
   "metadata": {},
   "outputs": [],
   "source": [
    "from qiskit import QuantumCircuit, Aer, transpile\n",
    "from qiskit.circuit.library.standard_gates import ZGate, XGate\n",
    "sim = Aer.get_backend('aer_simulator')\n",
    "\n",
    "from qiskit.visualization import array_to_latex\n",
    "import numpy as np"
   ]
  },
  {
   "cell_type": "code",
   "execution_count": 937,
   "metadata": {},
   "outputs": [],
   "source": [
    "def AND(ckt: QuantumCircuit, qubits: list, ans_index: int):\n",
    "    \"\"\"computes the AND of the qubits with indices in the iterable qubits and stores the answer in(adds the answer to) the qubit with index ans_index\"\"\"\n",
    "    #print(qubits)\n",
    "    ckt.mcx(qubits, ans_index)\n",
    "    return ckt"
   ]
  },
  {
   "cell_type": "code",
   "execution_count": 938,
   "metadata": {},
   "outputs": [],
   "source": [
    "def OR(ckt: QuantumCircuit, qubits: list, toNOT: list, ans_index: int):\n",
    "    \"\"\"computes the OR of the qubits with indices in the iterable qubits and stores the answer in the qubit with index ans_index. The other parameter toNOT is an optimization: it tells us which qubits are NOT-ted in the union/OR. So basically we compute the NOTs and the OR in one sweep.\"\"\"\n",
    "    # Idea: We use that union(A_i) = (AND(A_i^c))^c. The AND is very easily implemented using the multi-controlled X gate.\n",
    "    #print(list(zip(qubits, toNOT)))\n",
    "    for index, qubit in enumerate(qubits):\n",
    "        if not toNOT[index]: ckt.x(qubit)\n",
    "    AND(ckt, qubits, ans_index)\n",
    "    for index, qubit in enumerate(qubits): # restore the values of the qubits which had been X-ed.\n",
    "        if not toNOT[index]: ckt.x(qubit) \n",
    "    ckt.x(ans_index)\n",
    "    return ckt"
   ]
  },
  {
   "cell_type": "code",
   "execution_count": 939,
   "metadata": {},
   "outputs": [],
   "source": [
    "def oracle(n: int, function: list[list[int]]):\n",
    "    # The function F* is represented as [[1, -2], [3, 4, -1], [2, -5]]. The - denotes a NOT being taken.\n",
    "    ckt = QuantumCircuit(n + len(function) + 1) \n",
    "    # compute the C_i's.\n",
    "    for i, C_i in enumerate(function):\n",
    "        ckt = OR(ckt, qubits=[abs(qubit) - 1 for qubit in C_i], toNOT=[(qubit < 0) for qubit in C_i], ans_index=n + i)\n",
    "        #ckt.barrier()\n",
    "        \n",
    "    # compute F(x) and xor it to the last qubit\n",
    "    ckt = AND(ckt, list(range(n, n + len(function))), n + len(function))\n",
    "    #ckt.barrier()\n",
    "    \n",
    "    # uncompute the C_is to reuse workspace for next iteration\n",
    "    for i, C_i in enumerate(reversed(function)):\n",
    "        ckt.x(n + len(function)-1-i) # i still goes 0 to len(function)-1, only C_i's are reversed.\n",
    "        for qubit in C_i:\n",
    "            if qubit > 0: ckt.x(qubit-1)\n",
    "        ckt = AND(ckt, [abs(qubit) - 1 for qubit in C_i], n + len(function)-1-i)\n",
    "        for qubit in C_i:\n",
    "            if qubit > 0: ckt.x(qubit-1)\n",
    "        #ckt.barrier()\n",
    "\n",
    "    return ckt.to_gate(label=\" oracle(f) \")\n",
    "\n",
    "def augmented_oracle(n: int, oracle, f: list[list[int]]):\n",
    "    \"\"\"returns an Augmented oracle on n qubits(incl the dummy qubit) with len(f) workspace qubits. 1 more qubit to store answer.\"\"\"\n",
    "    c = QuantumCircuit(n + len(f) + 1)\n",
    "    c.x(n-1)\n",
    "    c.append(oracle(n-1, f).control(num_ctrl_qubits=1), [n-1] + list(range(n-1)) + list(range(n, n + len(f) + 1)))\n",
    "    c.x(n-1)\n",
    "    return c"
   ]
  },
  {
   "cell_type": "code",
   "execution_count": 940,
   "metadata": {},
   "outputs": [],
   "source": [
    "# ckt = QuantumCircuit(9)\n",
    "# ckt.append(oracle(5, [[1, -2], [3, 4, -1], [2, -5]]), range(9))\n",
    "# ckt.draw(\"mpl\")"
   ]
  },
  {
   "cell_type": "code",
   "execution_count": 941,
   "metadata": {},
   "outputs": [],
   "source": [
    "def conditional_phase_shift(n: int):\n",
    "    ckt = QuantumCircuit(n)\n",
    "    ckt.x(range(n))\n",
    "    ckt = ckt.compose(ZGate().control(num_ctrl_qubits=n-1))\n",
    "    ckt.x(range(n))\n",
    "    return ckt#.to_gate(label=\"Phase\\nShift\")\n",
    "\n",
    "def grover_iteration(ckt: QuantumCircuit, n: int, oracle, f, augmented:bool = True):\n",
    "    #ckt = ckt.compose(oracle(n, f))\n",
    "    ckt = ckt.compose(augmented_oracle(n, oracle, f)); ckt.barrier()\n",
    "    ckt.h(range(n))\n",
    "    ckt = ckt.compose(conditional_phase_shift(n))\n",
    "    ckt.h(range(n))\n",
    "    return ckt"
   ]
  },
  {
   "cell_type": "code",
   "execution_count": 942,
   "metadata": {},
   "outputs": [],
   "source": [
    "def solve(n: int, oracle, f):\n",
    "    ckt = QuantumCircuit(n + len(f) + 1, n)\n",
    "    \n",
    "    N = 2**n; M = 1\n",
    "    theta = 2*np.arcsin(np.sqrt(M/N))\n",
    "    print(theta*180/np.pi)\n",
    "    print(\"theta is approx\", round(theta*180/np.pi), \"degrees\")\n",
    "    iterations = round(np.pi/(2*theta) - 0.5)\n",
    "    print(\"number of iterations(k) is\", iterations)\n",
    "    \n",
    "    # initialize\n",
    "    ckt.h(range(n))\n",
    "    ckt.x(n + len(f)); ckt.h(n + len(f)) # get the last qubit into |-\\rangle\n",
    "    ckt.barrier()\n",
    "    \n",
    "    # iterate\n",
    "    for _ in range(iterations):\n",
    "        ckt = grover_iteration(ckt, n, oracle, f)\n",
    "        ckt.barrier()\n",
    "    \n",
    "    # measure\n",
    "    ckt.measure(range(n), range(n))\n",
    "\n",
    "    possible_solutions = sim.run(transpile(ckt, sim), shots=4096).result().get_counts()\n",
    "    # return ckt, possible_solutions\n",
    "    possible_solutions = [(int(key, 2), value) for key, value in possible_solutions.items()]\n",
    "    possible_solutions = sorted(possible_solutions, key=lambda item: item[1], reverse=True)\n",
    "\n",
    "    return ckt, possible_solutions"
   ]
  },
  {
   "cell_type": "code",
   "execution_count": 943,
   "metadata": {},
   "outputs": [],
   "source": [
    "def solve(n: int, oracle, f, M: int):\n",
    "    n += 1 # by default solve with the augmented oracle. Can optimize on qubits by solving with augmented only if M >= N/2 since we know M, but fine for now.\n",
    "    \n",
    "    ckt = QuantumCircuit(n + len(f) + 1, n)\n",
    "    N = 2**n\n",
    "\n",
    "    theta = 2*np.arcsin(np.sqrt(M/N)) # or np.arcsin(2*np.sqrt(M*(N-M))/N)\n",
    "    assert(theta < np.pi/2)\n",
    "    print(\"theta is approximately\", round(theta*180/np.pi), \"degrees\")\n",
    "    iterations = round(np.pi/(2*theta) - 0.5)\n",
    "    print(\"Number of iterations is\", iterations)\n",
    "    \n",
    "    # initialize\n",
    "    ckt.h(range(n)); #ckt.h(n + len(f) + 1) # this qubit is also part of our state space, note! so the superposition must include this qubit in 0/1\n",
    "    ckt.x(n + len(f)); ckt.h(n + len(f)) # get the last but one qubit into |-\\rangle\n",
    "    ckt.barrier()\n",
    "    \n",
    "    # iterate\n",
    "    for _ in range(iterations):\n",
    "        ckt = grover_iteration(ckt, n, oracle, f)\n",
    "        ckt.barrier()\n",
    "    \n",
    "    # measure\n",
    "    ckt.measure(range(n-1), range(n-1)) # we could but we don't need to measure the last qubit, since it is anyway 0(and x = 0x) in any solution 0x. So might as well just get x instead.\n",
    "\n",
    "    possible_solutions = sim.run(transpile(ckt, sim), shots=4096).result().get_counts()\n",
    "    # return ckt, possible_solutions\n",
    "    possible_solutions = [(int(key, 2), value) for key, value in possible_solutions.items()]\n",
    "    possible_solutions = sorted(possible_solutions, key=lambda item: item[1], reverse=True)\n",
    "\n",
    "    return ckt, possible_solutions"
   ]
  },
  {
   "cell_type": "code",
   "execution_count": 944,
   "metadata": {},
   "outputs": [
    {
     "name": "stdout",
     "output_type": "stream",
     "text": [
      "theta is approximately 54 degrees\n",
      "Number of iterations is 1\n"
     ]
    },
    {
     "name": "stderr",
     "output_type": "stream",
     "text": [
      "/opt/homebrew/lib/python3.9/site-packages/numpy/linalg/linalg.py:2146: RuntimeWarning: divide by zero encountered in det\n",
      "  r = _umath_linalg.det(a, signature=signature)\n",
      "/opt/homebrew/lib/python3.9/site-packages/numpy/linalg/linalg.py:2146: RuntimeWarning: invalid value encountered in det\n",
      "  r = _umath_linalg.det(a, signature=signature)\n"
     ]
    },
    {
     "data": {
      "image/png": "[encoded data removed]",
      "text/plain": [
       "<Figure size 1230.4x686.28 with 1 Axes>"
      ]
     },
     "execution_count": 944,
     "metadata": {},
     "output_type": "execute_result"
    }
   ],
   "source": [
    "n = 5; f = [[1, -2], [3, 4, -1], [2, -5]]; M = 13\n",
    "ckt, possible_solutions = solve(n, oracle, f, M=M)\n",
    "ckt.draw(\"mpl\")"
   ]
  },
  {
   "cell_type": "code",
   "execution_count": 945,
   "metadata": {},
   "outputs": [
    {
     "name": "stdout",
     "output_type": "stream",
     "text": [
      "[(5, 327), (11, 323), (15, 323), (13, 313), (4, 312), (23, 308), (7, 306), (0, 306), (31, 306), (12, 302), (27, 301), (9, 295), (8, 291), (24, 8), (17, 7), (25, 6), (1, 6), (20, 6), (22, 6), (3, 5), (21, 5), (18, 5), (19, 4), (26, 4), (6, 4), (28, 4), (16, 3), (10, 3), (30, 2), (2, 2), (29, 2), (14, 1)]\n"
     ]
    }
   ],
   "source": [
    "print(possible_solutions)"
   ]
  },
  {
   "cell_type": "code",
   "execution_count": 946,
   "metadata": {},
   "outputs": [
    {
     "name": "stdout",
     "output_type": "stream",
     "text": [
      "[0, 4, 5, 7, 8, 9, 11, 12, 13, 15, 23, 27, 31]\n"
     ]
    }
   ],
   "source": [
    "print(sorted(possible_solutions[i][0] for i in range(M)))    "
   ]
  }
 ],
 "metadata": {
  "kernelspec": {
   "display_name": "Python 3.9.13 64-bit",
   "language": "python",
   "name": "python3"
  },
  "language_info": {
   "codemirror_mode": {
    "name": "ipython",
    "version": 3
   },
   "file_extension": ".py",
   "mimetype": "text/x-python",
   "name": "python",
   "nbconvert_exporter": "python",
   "pygments_lexer": "ipython3",
   "version": "3.9.13"
  },
  "orig_nbformat": 4,
  "vscode": {
   "interpreter": {
    "hash": "b0fa6594d8f4cbf19f97940f81e996739fb7646882a419484c72d19e05852a7e"
   }
  }
 },
 "nbformat": 4,
 "nbformat_minor": 2
}
