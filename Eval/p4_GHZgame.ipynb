{
 "cells": [
  {
   "cell_type": "markdown",
   "metadata": {},
   "source": [
    "# 4. Non-Local Games\n",
    "We describe a stractegy to win the GHZ game with probability 1 using entangled qubits.\n",
    "The game:\n",
    "Alice, Bob, Charlie are given three bits $r, s, t$(the sum of the bits is even $\\iff$ the number of $1$'s are even) by a referee, and are asked to produce bits(no classical conversation allowed) $a, b, c$ such that $a \\oplus b \\oplus c = r \\cup s \\cup t$. if they can, they win. Else the referee wins.\n",
    "\n",
    "Classically, the best they can do is win with probability $0.75$. Why? Well, intuitively, the best bet is to assume that the case with two $1$'s ocurred(which is likely, since it occurs $75$% of the time) and so put forward say $1, 0, 0$ or $1, 1, 1$ as the bits $a, b, c$ and win $75$% of the time. Clearly, without apriori knowledge of whether the referee is going to give no $1$ or two $1$ s, this seems the best they can do.\n",
    "\n",
    "We now show this formally:\n",
    "Consider their strategy to be a set $\\{f, g, h\\}$ of three functions $f, g, h: \\{0, 1\\} \\rightarrow \\{0, 1\\}$ describing their answer to each possible set of $r,s,t$ i.e. $a = f(r), b = g(s), c = h(t)$. Suppose that some strategy $\\{f, g, h\\}$ could win $100$% of the time ie could solve all four equations below:\n",
    "$$\\begin{align}\n",
    "f(0) \\oplus g(0) \\oplus h(0) &= 0 \\\\\n",
    "f(1) \\oplus g(1) \\oplus h(0) &= 1 \\\\\n",
    "f(1) \\oplus g(0) \\oplus h(1) &= 1 \\\\\n",
    "f(0) \\oplus g(1) \\oplus h(1) &= 1 \\\\\n",
    "\\end{align}$$\n",
    "Adding all four equations, we get $0 = 1$, a contradiction. So no deterministic strategy can serve to win all the time, so atmost three equations can be solved simultaneously, giving a win percentage of $75$%. Can we achieve this? Yes, choose $f \\equiv 0, g \\equiv 0, h \\equiv 1$, the last three equations hold true. The proof is complete.\n",
    "\n",
    "Now to the quantum game: The referee allows the three players to share three qubits, one per player in any predetermined state. During the game, the players are allowed to make operations on their own qubits(including possibly measurement) and report their answers $a, b, c$ from the results. Can they always win?\n",
    "Yes!\n",
    "\n",
    "Strategy: A, B, C share one each of the three qubits in an entangled state called the GHZ state - $$|\\psi\\rangle = \\frac{|000\\rangle - |110\\rangle - |101\\rangle - |011\\rangle}{2}$$\n",
    "(Notice that the four states exactly correspond to the referee's four possible questions and always sum up to an even number.)\n",
    "During the game, each player applies the Hadamard transform on his/her qubit iff they received a $1$. Then he/she measures his/her qubit and reports the measurement value as his.her answer. Turns out the measurement values are such that they always win!\n",
    "Proof of the working:\n",
    "Suppose $r = s = t = 0$. Then no Hadamard transforms are done, and they straightaway measure. Clearly the measurement values always sum(modulo 2) to 0 = $r \\cup s \\cup t$, so they win in this case(independent of which measurement result was obtained).\n",
    "Next, suppose 2 $1$'s are given.\n",
    "Since the initial state is symmetric in all three qubits, we might as well assume that Alice and Bob get the $1$'s.\n",
    "Both of them apply Hadamard transforms on their qubit.\n",
    "The final state of the three qubits after Alice applies the transform is\n",
    "$$(H \\otimes I \\otimes I)|\\psi\\rangle = \\frac{|000\\rangle + |100\\rangle - |011\\rangle - |111\\rangle - |001\\rangle + |101\\rangle - |010\\rangle + |110\\rangle}{2\\sqrt{2}}$$\n",
    "and after Bob applies it is (with numerous cancellations)\n",
    "$$\\frac{|111\\rangle + |100\\rangle + |010\\rangle - |001\\rangle}{2}$$\n",
    "which evidently has all qubits summing(modulo 2) to 1 = $r \\cup s \\cup t$, so that they win here as well(independent of which measurement result was obtained).\n",
    "Hence, in any case, Alice, Bob and Charlie are able to satisfy $a \\oplus b \\oplus c = r \\cup s \\cup t$ and so win with a probability of 1. $\\text{Q.E.D.}$"
   ]
  }
 ],
 "metadata": {
  "kernelspec": {
   "display_name": "Python 3.9.13 64-bit",
   "language": "python",
   "name": "python3"
  },
  "language_info": {
   "name": "python",
   "version": "3.9.13"
  },
  "orig_nbformat": 4,
  "vscode": {
   "interpreter": {
    "hash": "b0fa6594d8f4cbf19f97940f81e996739fb7646882a419484c72d19e05852a7e"
   }
  }
 },
 "nbformat": 4,
 "nbformat_minor": 2
}
