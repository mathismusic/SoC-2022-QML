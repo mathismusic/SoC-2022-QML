{
 "cells": [
  {
   "cell_type": "markdown",
   "metadata": {},
   "source": [
    "# 1. Quantum SWAP Test\n",
    "A way to find the magnitude of $\\langle \\psi \\vert \\phi \\rangle$ for two single-qubit states $\\psi$ and $\\phi$. We outline two methods of achieving this - one using an Ancilla qubit, one without it. Both methods rely upon measuring an ensemble of identical $|0\\psi\\phi\\rangle$ states passed through the same quantum circuit and recording the probabilities of different outcomes. In Qiskit, the simulator does this for us."
   ]
  },
  {
   "cell_type": "code",
   "execution_count": 22,
   "metadata": {},
   "outputs": [],
   "source": [
    "from qiskit import QuantumCircuit, Aer, transpile\n",
    "from qiskit.visualization import plot_histogram\n",
    "sim = Aer.get_backend('aer_simulator')\n",
    "\n",
    "from numpy import sqrt"
   ]
  },
  {
   "cell_type": "markdown",
   "metadata": {},
   "source": [
    "### Method 1: using an Ancilla Qubit.\n",
    "Idea: We use the circuit below and measure the probability of obtaining the ancilla qubit in state $|0\\rangle$.\n",
    "\n",
    "Proof of working: The initial state of the system is $|0\\psi\\phi\\rangle$. We can compute the state of the system after all the operations to be\n",
    "$$|\\Psi\\rangle = |0\\rangle \\otimes \\left(\\frac{|\\psi\\phi\\rangle + |\\phi\\psi\\rangle}{2}\\right) + |1\\rangle \\otimes \\left(\\frac{|\\psi\\phi\\rangle - |\\phi\\psi\\rangle}{2}\\right)$$ \n",
    "Now say $\\frac{|\\psi\\phi\\rangle + |\\phi\\psi\\rangle}{2} = \\alpha |00\\rangle + \\beta |01\\rangle + \\gamma |10\\rangle + \\delta |11\\rangle$. So the probability of observing $0$ when measuring the ancilla qubit is $\\mathbb{P}(0) = \\sum_{x, y \\in {0, 1}} \\mathbb{P} (|0xy\\rangle) = |\\alpha|^2 + |\\beta|^2 + |\\gamma|^2 + |\\delta|^2$. We can now find $\\alpha, \\beta, \\gamma, \\delta$ by computing $\\frac{|\\psi\\phi\\rangle + |\\phi\\psi\\rangle}{2}$ from $|\\psi\\rangle = a|0\\rangle + b|1\\rangle$ and $|\\phi\\rangle = c|0\\rangle + d|1\\rangle$. Skipping the calculation, we finally get $$\\mathbb{P}(0) = \\frac{1}{2} + \\frac{|\\bar{a}c + \\bar{b}d|^2}{2} = \\frac{1}{2} + \\frac{|\\langle\\psi|\\phi\\rangle|^2}{2}$$ from which the magnitude of $\\langle\\psi|\\phi\\rangle$ is immediate."
   ]
  },
  {
   "cell_type": "code",
   "execution_count": 23,
   "metadata": {},
   "outputs": [],
   "source": [
    "# For this implementation we require the Fredkin or Controlled Swap or CSWAP gate.\n",
    "# We implement it below, but it can be implemented using the cswap or fredkin methods of class QuantumCircuit as well.\n",
    "def fredkin_gate():\n",
    "    c = QuantumCircuit(3)\n",
    "    c.cx(1, 2); c.ccx(0, 2, 1); c.cx(1, 2)\n",
    "    return c\n",
    "\n",
    "def swap_test_1(psi: list, phi: list, shots: int=4096):\n",
    "    ckt = QuantumCircuit(3, 1)\n",
    "    ckt.initialize(psi, 1); ckt.initialize(phi, 2)\n",
    "    ckt.barrier()\n",
    "    ckt.h(0)\n",
    "    ckt = ckt.compose(fredkin_gate())\n",
    "    #ckt.append(fredkin_gate(), range(3)) # 0 is control, 1&2 are target for the fredkin gate.\n",
    "    ckt.h(0)\n",
    "    ckt.measure(0, 0)\n",
    "    counts = sim.run(transpile(ckt, sim), shots=shots).result().get_counts()\n",
    "    prob_0 = counts[\"0\"]/shots\n",
    "    return ckt, sqrt(2*prob_0 - 1)"
   ]
  },
  {
   "cell_type": "code",
   "execution_count": 24,
   "metadata": {},
   "outputs": [
    {
     "data": {
      "image/png": "[encoded data removed]",
      "text/plain": [
       "<Figure size 507.997x264.88 with 1 Axes>"
      ]
     },
     "execution_count": 24,
     "metadata": {},
     "output_type": "execute_result"
    }
   ],
   "source": [
    "ckt, ans = swap_test_1([1, 0], [1/sqrt(2), 1/sqrt(2)], 2048)\n",
    "ckt.draw(output=\"mpl\")"
   ]
  },
  {
   "cell_type": "code",
   "execution_count": 25,
   "metadata": {},
   "outputs": [
    {
     "name": "stdout",
     "output_type": "stream",
     "text": [
      "0.7146622891268295\n"
     ]
    }
   ],
   "source": [
    "# Note that this is only approximate since shots is finite\n",
    "print(ans)"
   ]
  },
  {
   "cell_type": "markdown",
   "metadata": {},
   "source": [
    "# Method 2: Without Ancilla qubit.\n",
    "Idea: We write the state $|\\psi\\phi\\rangle$ in the Bell basis, then change from the Bell basis to the computational basis and then measure the probability of obtaining the state $|11\\rangle$.\n",
    "\n",
    "Proof of working: Let $|\\psi\\rangle = a|0\\rangle + b|1\\rangle$ and $|\\phi\\rangle = c|0\\rangle + d|1\\rangle$. \n",
    "\n",
    "Then we have \n",
    "$$\n",
    "\\begin{align}\n",
    "|\\psi\\phi\\rangle &= ac|00\\rangle + ad|01\\rangle + bc|10\\rangle + bd|11\\rangle \\\\\n",
    "&= \\frac{1}{\\sqrt{2}}\\bigg[ (ac + bd)|\\beta_{00}\\rangle + (ad + bc)|\\beta_{01}\\rangle + (ac - bd)|\\beta_{10}\\rangle + (ad - bc)|\\beta_{11}\\rangle \\bigg]\n",
    "\\end{align}\n",
    "$$\n",
    "and hence\n",
    "$$ \\begin{align} \n",
    "\\mathbb{P}(|\\beta_{11}\\rangle) + \\frac{|\\langle\\psi|\\phi\\rangle|^2}{2} &= \\frac{|ad-bc|^2 + |\\bar{a}c + \\bar{b}d|^2}{2} \\\\ &= \\frac{(|a|^2 + |b|^2)(|c|^2 + |d|^2) - 2\\mathcal{R}(\\overline{ad}bc) + 2\\mathcal{R}(\\bar{a}c\\overline{\\bar{b}d})}{2} \\\\ &= \\frac{1}{2}\n",
    "\\end{align} $$\n",
    "from which we can obtain $|\\langle\\psi|\\phi\\rangle|$. The probability $\\mathbb{P}(|\\beta_{11}\\rangle)$ is calculated by applying the $|\\beta_{xy}\\rangle \\rightarrow |xy\\rangle$ change of basis operator to the system and then measuring the probability of getting the basis state $|11\\rangle$."
   ]
  },
  {
   "cell_type": "code",
   "execution_count": 26,
   "metadata": {},
   "outputs": [],
   "source": [
    "def bell_to_comp():\n",
    "    c = QuantumCircuit(2)\n",
    "    c.cx(0, 1); c.h(0)\n",
    "    return c\n",
    "\n",
    "def swap_test_2(psi: list, phi: list, shots=4096):\n",
    "    ckt = QuantumCircuit(2)\n",
    "    ckt.initialize(psi, 0); ckt.initialize(phi, 1); ckt.barrier()\n",
    "    ckt = ckt.compose(bell_to_comp())\n",
    "    ckt.measure_all()\n",
    "    counts = sim.run(transpile(ckt, sim), shots=shots).result().get_counts()\n",
    "    ans = sqrt(1 - 2*(counts[\"11\"]/shots))\n",
    "    return ckt, ans"
   ]
  },
  {
   "cell_type": "code",
   "execution_count": 27,
   "metadata": {},
   "outputs": [
    {
     "data": {
      "image/png": "[encoded data removed]",
      "text/plain": [
       "<Figure size 598.479x204.68 with 1 Axes>"
      ]
     },
     "execution_count": 27,
     "metadata": {},
     "output_type": "execute_result"
    }
   ],
   "source": [
    "ckt, ans = swap_test_2([1, 0], [1/sqrt(2), 1/sqrt(2)], 2048)\n",
    "ckt.draw(output=\"mpl\")"
   ]
  },
  {
   "cell_type": "code",
   "execution_count": 28,
   "metadata": {},
   "outputs": [
    {
     "name": "stdout",
     "output_type": "stream",
     "text": [
      "0.7036456405748563\n"
     ]
    }
   ],
   "source": [
    "print(ans)"
   ]
  }
 ],
 "metadata": {
  "kernelspec": {
   "display_name": "Python 3.9.13 64-bit",
   "language": "python",
   "name": "python3"
  },
  "language_info": {
   "codemirror_mode": {
    "name": "ipython",
    "version": 3
   },
   "file_extension": ".py",
   "mimetype": "text/x-python",
   "name": "python",
   "nbconvert_exporter": "python",
   "pygments_lexer": "ipython3",
   "version": "3.9.13"
  },
  "orig_nbformat": 4,
  "vscode": {
   "interpreter": {
    "hash": "b0fa6594d8f4cbf19f97940f81e996739fb7646882a419484c72d19e05852a7e"
   }
  }
 },
 "nbformat": 4,
 "nbformat_minor": 2
}
