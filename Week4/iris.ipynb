{
 "cells": [
  {
   "cell_type": "markdown",
   "metadata": {},
   "source": [
    "# Clustering the Iris dataset into species using the k-means clustering technique.\n",
    "The $k$ to use is basically determined from our input - we want to have exactly one cluster centre for each species of Iris - so in this case we have $k = 3$(species: Setosa, Versicolor, Virginica). The idea here is for the AI to be able to group a particular flower into the right species like a human expert by looking at different attributes like petal length, width & sepal length, width etc."
   ]
  },
  {
   "cell_type": "code",
   "execution_count": 8,
   "metadata": {},
   "outputs": [],
   "source": [
    "from sklearn.cluster import KMeans\n",
    "from csv import reader\n",
    "from collections import Counter"
   ]
  },
  {
   "cell_type": "code",
   "execution_count": 12,
   "metadata": {},
   "outputs": [],
   "source": [
    "# similar to linReg.ipynb load functions. Taken from svm.ipynb\n",
    "def load_data(f: str, inputs: list[str], output: str):\n",
    "    inputs = [input.lower() for input in inputs]; output = output.lower()\n",
    "    with open(f) as f:\n",
    "        rows = reader(f)\n",
    "        titles = next(rows) # no need to split, we already get a list\n",
    "        indices = [i for i, title in enumerate(titles) if title.lower() in inputs]\n",
    "        for i, title in enumerate(titles):\n",
    "            if title.lower() == output: \n",
    "                outindex = i; break\n",
    "        return [{\n",
    "            \"inputs\": [float(row[i]) for i in indices], \n",
    "            \"output\": row[outindex]\n",
    "        } for row in rows]"
   ]
  },
  {
   "cell_type": "code",
   "execution_count": 21,
   "metadata": {},
   "outputs": [
    {
     "name": "stdout",
     "output_type": "stream",
     "text": [
      "Dataset loaded.\n",
      "Model trained.\n",
      "Prediction = [1 1 1 1 1 1 1 1 1 1 1 1 1 1 1 1 1 1 1 1 1 1 1 1 1 1 1 1 1 1 1 1 1 1 1 1 1\n",
      " 1 1 1 1 1 1 1 1 1 1 1 1 1 2 2 0 2 2 2 2 2 2 2 2 2 2 2 2 2 2 2 2 2 2 2 2 2\n",
      " 2 2 2 0 2 2 2 2 2 2 2 2 2 2 2 2 2 2 2 2 2 2 2 2 2 2 0 2 0 0 0 0 2 0 0 0 0\n",
      " 0 0 2 2 0 0 0 0 2 0 2 0 2 0 0 2 2 0 0 0 0 0 2 0 0 0 0 2 0 0 0 2 0 0 0 2 0\n",
      " 0 2]\n",
      "Grouping results: [(('Iris-setosa', 1), 50), (('Iris-versicolor', 2), 48), (('Iris-virginica', 0), 36), (('Iris-virginica', 2), 14), (('Iris-versicolor', 0), 2)]\n",
      "\n",
      "Model correctly grouped 134 examples from 150 testcases.\n"
     ]
    }
   ],
   "source": [
    "params = [\"SepalLengthCm\", \"SepalWidthCm\",\"PetalLengthCm\", \"PetalWidthCm\"]\n",
    "output = \"species\"\n",
    "dataset = load_data(\"iris.csv\", params, output)\n",
    "print(\"Dataset loaded.\")\n",
    "X = [example[\"inputs\"] for example in dataset]\n",
    "y = [example[\"output\"] for example in dataset]\n",
    "\n",
    "model = KMeans(n_clusters=3, max_iter=300, tol=1e-4, algorithm=\"lloyd\")\n",
    "model.fit(X) # Note that the model does not require y to group examples. It can classify them without the labels being given! - unsupervised learning.\n",
    "print(\"Model trained.\")\n",
    "\n",
    "prediction = model.predict(X)\n",
    "print(\"Prediction =\", prediction) # A list of 0s, 1s and 2s. Due to the random nature of the inital cluster locations, all 0s become 1s etc is possible.\n",
    "\n",
    "results = sorted(Counter(zip(y, prediction)).items(), key=lambda item: item[1], reverse=True)\n",
    "\n",
    "print(\"Grouping results:\", results)\n",
    "correct = 0\n",
    "for i in range(3): correct += results[i][1]\n",
    "print(f\"\\nModel correctly grouped {correct} examples from {len(X)} testcases.\")\n",
    "\n",
    "# From the results we see that the AI perfectly classified Setosa flowers, and almost perfectly classified Versicolor flowers(2 Versicolors were incorrectly classified as Virginica). However, it classified only 36 of the Virginica flowers correctly and classified the rest as Versicolor. Hence we conclude that in the input space, Setosa flowers are very far(different features) from the other two varieties, which are somewhat close to each other."
   ]
  }
 ],
 "metadata": {
  "kernelspec": {
   "display_name": "Python 3.9.13 64-bit",
   "language": "python",
   "name": "python3"
  },
  "language_info": {
   "codemirror_mode": {
    "name": "ipython",
    "version": 3
   },
   "file_extension": ".py",
   "mimetype": "text/x-python",
   "name": "python",
   "nbconvert_exporter": "python",
   "pygments_lexer": "ipython3",
   "version": "3.9.13"
  },
  "orig_nbformat": 4,
  "vscode": {
   "interpreter": {
    "hash": "b0fa6594d8f4cbf19f97940f81e996739fb7646882a419484c72d19e05852a7e"
   }
  }
 },
 "nbformat": 4,
 "nbformat_minor": 2
}
