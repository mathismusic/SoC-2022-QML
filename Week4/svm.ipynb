{
 "cells": [
  {
   "cell_type": "markdown",
   "metadata": {},
   "source": [
    "# Classification(into benign and malignant) of the Breast Cancer Dataset using SVMs\n",
    "We use ``sklearn`` to implement this SVM based binary classification algorithm."
   ]
  },
  {
   "cell_type": "code",
   "execution_count": 16,
   "metadata": {},
   "outputs": [],
   "source": [
    "from sklearn.svm import SVC # Support Vector (based) Classifier\n",
    "from sklearn.model_selection import train_test_split\n",
    "from sklearn.metrics import accuracy_score\n",
    "from csv import reader\n",
    "import numpy as np"
   ]
  },
  {
   "cell_type": "code",
   "execution_count": 17,
   "metadata": {},
   "outputs": [],
   "source": [
    "# similar to linReg.ipynb load functions\n",
    "def load_data(f: str, inputs: list[str], output: str):\n",
    "    with open(f) as f:\n",
    "        rows = reader(f)\n",
    "        titles = next(rows) # no need to split, we already get a list\n",
    "        indices = [i for i, title in enumerate(titles) if title.lower() in inputs]\n",
    "        for i, title in enumerate(titles):\n",
    "            if title.lower() == output: \n",
    "                outindex = i; break\n",
    "        return [{\n",
    "            \"inputs\": [float(row[i]) for i in indices], \n",
    "            \"output\": row[outindex] # a string: M or B\n",
    "        } for row in rows]"
   ]
  },
  {
   "cell_type": "code",
   "execution_count": 25,
   "metadata": {},
   "outputs": [
    {
     "name": "stdout",
     "output_type": "stream",
     "text": [
      "Dataset loaded.\n",
      "Model trained with 426 examples.\n",
      "132 scores have been classified correctly from 143 testcases, giving an accuracy of 92.31%.\n"
     ]
    }
   ],
   "source": [
    "inputs = [\"radius_mean\", \"texture_mean\", \"compactness_mean\", \"concavity_mean\"]\n",
    "output = \"diagnosis\"\n",
    "dataset = load_data(\"breastCancer.csv\", inputs, output)\n",
    "# print(dataset[:10])\n",
    "print(\"Dataset loaded.\")\n",
    "\n",
    "model = SVC()\n",
    "train, test = train_test_split(dataset, shuffle=True)\n",
    "X_train = [example[\"inputs\"] for example in train]\n",
    "y_train = [example[\"output\"] for example in train]\n",
    "X_test  = [example[\"inputs\"] for example in test]\n",
    "y_test  = [example[\"output\"] for example in test]\n",
    "\n",
    "model.fit(X_train, y_train)\n",
    "print(\"Model trained with\", len(X_train), \"examples.\")\n",
    "\n",
    "prediction = model.predict(X_test)\n",
    "correct = accuracy_score(y_true=y_test, y_pred=prediction, normalize=False)\n",
    "print(f\"{correct} scores have been classified correctly from {len(y_test)} testcases, giving an accuracy of {(correct/len(y_test) *100):.2f}%.\")"
   ]
  }
 ],
 "metadata": {
  "kernelspec": {
   "display_name": "Python 3.9.13 64-bit",
   "language": "python",
   "name": "python3"
  },
  "language_info": {
   "codemirror_mode": {
    "name": "ipython",
    "version": 3
   },
   "file_extension": ".py",
   "mimetype": "text/x-python",
   "name": "python",
   "nbconvert_exporter": "python",
   "pygments_lexer": "ipython3",
   "version": "3.9.13"
  },
  "orig_nbformat": 4,
  "vscode": {
   "interpreter": {
    "hash": "b0fa6594d8f4cbf19f97940f81e996739fb7646882a419484c72d19e05852a7e"
   }
  }
 },
 "nbformat": 4,
 "nbformat_minor": 2
}
