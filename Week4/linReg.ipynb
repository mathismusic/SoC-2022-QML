{
 "cells": [
  {
   "cell_type": "markdown",
   "metadata": {},
   "source": [
    "# Linear Regression of the Weather history dataset using sklearn\n",
    "Regression is a way to approximate a function $f$ using various data points on the actual graph of the function. Linear regression constructs an approximate function that is linear(so this technique works when the function $f$ has its data points all near a particular line or a plane(2 input 1 output so graph is in $\\mathbb{R}^3$ ) or a hyperplane). Linear regression learns this hyperplane's equation and then can help predict outputs to new input values.\n",
    "The learnt function $h$ is defined by a parametric equation $h = \\vec n \\cdot \\vec x + c$ or $\\vec w \\cdot x + b$. The parameters $\\vec w = (w_1, w_2, \\cdots, w_n)$ and $b$ are learnt like in binary classification using grad desc and backprop to update parameters.\n",
    "\n",
    "Details:\n",
    "Actually, ``sklearn`` uses the least square approximation(\"OLS\") to minimize the l2 loss(actually sqrt(N*the l2 loss)). The **exact** value of the weights and bias (i.e. $\\vec \\theta$) are found directly using the normal equation(which follows from classic least square approx, see notes). \n",
    "Unlike the gradient descent approach, this way the answer is found **exactly** and so the minimum loss will be the same each time. Small randomness in the loss values here is due to randomness in the test set(i.e. the matrix $X$ in the OLS computation) because of the shuffling used to choose a random train and test set.\n",
    "\n",
    "The following implementation uses ``sklearn`` and abstracts the details of the optimization.\n",
    "\n",
    "Reading material: [CS50 AI Lecture 4](https://cs50.harvard.edu/ai/2020/notes/4/)"
   ]
  },
  {
   "cell_type": "code",
   "execution_count": 136,
   "metadata": {},
   "outputs": [],
   "source": [
    "from sklearn.linear_model import LinearRegression\n",
    "from csv import reader\n",
    "import numpy as np\n",
    "from numpy.random import shuffle"
   ]
  },
  {
   "cell_type": "markdown",
   "metadata": {},
   "source": [
    "### Regress humidity as a fn of Temperature"
   ]
  },
  {
   "cell_type": "code",
   "execution_count": 137,
   "metadata": {},
   "outputs": [],
   "source": [
    "def load_data(file):\n",
    "    data = [] # a list of dictionaries, each dictionary has two elements, (\"input params\", inputs) and (\"output params\", outputs). This structure is purely to make the code more understandable as to what is being regressed.\n",
    "\n",
    "    def load(file_obj):    \n",
    "        csv_reader = reader(file_obj) # csv_reader is an iterable iterating over rows of the file.\n",
    "        next(csv_reader) # skip the title row\n",
    "        for row in csv_reader: # row is a list of strings containing the data of each row in the file.\n",
    "            data.append({\n",
    "                # input: temperature, function output: humidity\n",
    "                \"temperature\": [float(row[3])], \n",
    "                \"humidity\": float(row[5]) # the float is since row is list[str]\n",
    "            })\n",
    "    \n",
    "    # load data based on type of file. file is assumed to be either str(filename) or a file object.\n",
    "    if isinstance(file, str):\n",
    "        with open(file) as f: load(f)\n",
    "    else: load(file)\n",
    "    return data"
   ]
  },
  {
   "cell_type": "code",
   "execution_count": 138,
   "metadata": {},
   "outputs": [
    {
     "name": "stdout",
     "output_type": "stream",
     "text": [
      "Dataset loaded.\n",
      "Model trained with 57872 examples.\n",
      "Mean squared loss over 38581 testcases is 0.0230.\n"
     ]
    }
   ],
   "source": [
    "model = LinearRegression() # model is an instance of the LinearRegression class. C++ code would be LinearRegression model() or auto model = LinearRegression()\n",
    "data = load_data(\"weatherHistory.csv\")\n",
    "print(\"Dataset loaded.\")\n",
    "\n",
    "# divide data into training and test sets.\n",
    "holdout = int(0.4 * len(data))\n",
    "shuffle(data)\n",
    "testing_set = data[:holdout]; training_set = data[holdout:]\n",
    "\n",
    "# train model on training set\n",
    "X_train = [example[\"temperature\"] for example in training_set]\n",
    "Y_train = [example[\"humidity\"] for example in training_set]\n",
    "model.fit(X_train, Y_train)\n",
    "print(\"Model trained with\", len(X_train), \"examples.\")\n",
    "\n",
    "# test model predictions on testing set\n",
    "X_test = [example[\"temperature\"] for example in testing_set]\n",
    "Y_test = [example[\"humidity\"] for example in testing_set]\n",
    "predictions = model.predict(X=X_test)\n",
    "\n",
    "# calculate the L2 loss function.\n",
    "loss = 0\n",
    "sz = 0 # size of testset\n",
    "for y, yhat in zip(Y_test, predictions):\n",
    "    loss += (y - yhat)**2\n",
    "    sz += 1\n",
    "loss /= sz\n",
    "print(f\"Mean squared loss over {sz} testcases is {loss:.4f}.\") # the loss is around 0.02 where answers are in [0, 1], that's remarkable accuracy."
   ]
  },
  {
   "cell_type": "markdown",
   "metadata": {},
   "source": [
    "### Part 2: Regress humidity as a fn of Temperature and Pressure\n",
    "We present a general algorithm to regress any output parameter as a function of any list of input parameters."
   ]
  },
  {
   "cell_type": "code",
   "execution_count": 143,
   "metadata": {},
   "outputs": [],
   "source": [
    "# General load function. We do it without csv.reader for variety and learning.\n",
    "def load(file: str, params: list, output: str): # params and output are expected to be lowercase\n",
    "    with open(file) as f:\n",
    "        titles = f.readline().split(sep=',')\n",
    "        \n",
    "        indices = [i for i, title in enumerate(titles) if title.lower() in params]\n",
    "        for i, title in enumerate(titles):\n",
    "            if output == title.lower(): \n",
    "                outindex = i; break\n",
    "        else: \n",
    "            raise ValueError(\"Invalid output variable.\")\n",
    "        data = []\n",
    "        for row in f:\n",
    "            words = row.split(',')\n",
    "            data.append({\"inputs\": [float(words[i]) for i in indices], \"output\": float(words[outindex])})\n",
    "    return data\n",
    "\n",
    "def calc_l2loss(actual, prediction):\n",
    "    # n_test = 0; loss = 0\n",
    "    # for y, yhat in zip(actual, prediction):\n",
    "    #     loss += (y-yhat)**2; n_test += 1\n",
    "    # return loss/n_test\n",
    "    return np.sum((np.array(actual) - prediction)**2)/len(prediction)"
   ]
  },
  {
   "cell_type": "code",
   "execution_count": 144,
   "metadata": {},
   "outputs": [
    {
     "name": "stdout",
     "output_type": "stream",
     "text": [
      "Dataset loaded.\n",
      "Model trained with 57872 examples.\n",
      "Mean squared loss while regressing humidity against ['temperature (c)', 'pressure (millibars)'] with 38581 testcases is 0.0228.\n"
     ]
    }
   ],
   "source": [
    "params = [\"temperature (c)\", \"pressure (millibars)\"]\n",
    "output = \"humidity\"\n",
    "data = load(\"weatherHistory.csv\", params=params, output=output)\n",
    "# print(data[:10])\n",
    "print(\"Dataset loaded.\")\n",
    "\n",
    "model = LinearRegression()\n",
    "\n",
    "shuffle(data)\n",
    "holdout = int(0.4 * len(data))\n",
    "train, test = data[holdout:], data[:holdout]\n",
    "X_train = [example[\"inputs\"] for example in train]\n",
    "y_train = [example[\"output\"] for example in train]\n",
    "X_test  = [example[\"inputs\"] for example in test]\n",
    "y_test  = [example[\"output\"] for example in test]\n",
    "\n",
    "model.fit(X_train, y_train)\n",
    "print(\"Model trained with\", len(X_train), \"examples.\")\n",
    "\n",
    "prediction = model.predict(X_test)\n",
    "loss = calc_l2loss(y_test, prediction)\n",
    "print(f\"Mean squared loss while regressing {output} against {params} with {len(prediction)} testcases is {loss:.4f}.\")"
   ]
  }
 ],
 "metadata": {
  "kernelspec": {
   "display_name": "Python 3.9.13 64-bit",
   "language": "python",
   "name": "python3"
  },
  "language_info": {
   "codemirror_mode": {
    "name": "ipython",
    "version": 3
   },
   "file_extension": ".py",
   "mimetype": "text/x-python",
   "name": "python",
   "nbconvert_exporter": "python",
   "pygments_lexer": "ipython3",
   "version": "3.9.13"
  },
  "orig_nbformat": 4,
  "vscode": {
   "interpreter": {
    "hash": "b0fa6594d8f4cbf19f97940f81e996739fb7646882a419484c72d19e05852a7e"
   }
  }
 },
 "nbformat": 4,
 "nbformat_minor": 2
}
